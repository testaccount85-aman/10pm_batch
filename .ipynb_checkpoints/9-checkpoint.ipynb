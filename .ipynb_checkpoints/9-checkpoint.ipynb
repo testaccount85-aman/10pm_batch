{
 "cells": [
  {
   "cell_type": "code",
   "execution_count": 1,
   "id": "4fa3f692-05b5-4d52-a3c8-f39854201b8c",
   "metadata": {},
   "outputs": [],
   "source": [
    "#store 10 names in the list-> names will be user input \n",
    "#these should not be any duplicates "
   ]
  },
  {
   "cell_type": "code",
   "execution_count": 4,
   "id": "1d649f9f-6dae-43da-9c07-b457ebc3b410",
   "metadata": {},
   "outputs": [
    {
     "name": "stdin",
     "output_type": "stream",
     "text": [
      "Please enter the name  aman\n",
      "Please enter the name  aman\n",
      "Please enter the name  aman\n",
      "Please enter the name  aman\n",
      "Please enter the name  aman\n",
      "Please enter the name  aman\n",
      "Please enter the name  aman\n",
      "Please enter the name  aman\n",
      "Please enter the name  aman\n",
      "Please enter the name  aman\n"
     ]
    },
    {
     "name": "stdout",
     "output_type": "stream",
     "text": [
      "['aman']\n"
     ]
    }
   ],
   "source": [
    "names = []\n",
    "for i in range(10):\n",
    "    name = input(\"Please enter the name \")\n",
    "    if name not in names:\n",
    "        names.append(name)\n",
    "print(names)"
   ]
  },
  {
   "cell_type": "code",
   "execution_count": 5,
   "id": "a24752bb-cb72-4610-ac8a-0f375a827d89",
   "metadata": {},
   "outputs": [
    {
     "name": "stdin",
     "output_type": "stream",
     "text": [
      "Please enter the name  aman\n",
      "Please enter the name  aman\n",
      "Please enter the name  aman\n",
      "Please enter the name  aman\n",
      "Please enter the name  aman\n",
      "Please enter the name  aman\n",
      "Please enter the name  aman\n",
      "Please enter the name  aman\n",
      "Please enter the name  aman\n",
      "Please enter the name  aman\n",
      "Please enter the name  aman\n",
      "Please enter the name  aman\n",
      "Please enter the name  aman\n",
      "Please enter the name  aman\n",
      "Please enter the name  aman\n",
      "Please enter the name  aman\n",
      "Please enter the name  aman\n",
      "Please enter the name  aman\n",
      "Please enter the name  aman\n",
      "Please enter the name  aman\n",
      "Please enter the name  aman\n",
      "Please enter the name  aman\n",
      "Please enter the name  aman\n",
      "Please enter the name  aman\n",
      "Please enter the name  aman\n",
      "Please enter the name  aman\n",
      "Please enter the name  aman\n",
      "Please enter the name  aman\n",
      "Please enter the name  aman\n",
      "Please enter the name  aman\n",
      "Please enter the name  mana\n",
      "Please enter the name  aman2\n",
      "Please enter the name  aman3\n",
      "Please enter the name  aman1\n",
      "Please enter the name  aman4\n",
      "Please enter the name  aman5\n",
      "Please enter the name  aman6\n",
      "Please enter the name  aman4\n",
      "Please enter the name  aman\n",
      "Please enter the name  aman7\n",
      "Please enter the name  aman8\n"
     ]
    },
    {
     "name": "stdout",
     "output_type": "stream",
     "text": [
      "['aman', 'mana', 'aman2', 'aman3', 'aman1', 'aman4', 'aman5', 'aman6', 'aman7', 'aman8']\n"
     ]
    }
   ],
   "source": [
    "names = []\n",
    "c = 0\n",
    "while c<10:\n",
    "    name = input(\"Please enter the name \")\n",
    "    if name not in names:\n",
    "        names.append(name)\n",
    "        c+=1\n",
    "print(names)"
   ]
  },
  {
   "cell_type": "code",
   "execution_count": 6,
   "id": "08856a35-6d48-4989-92ac-362d60945983",
   "metadata": {},
   "outputs": [
    {
     "name": "stdin",
     "output_type": "stream",
     "text": [
      "Please enter the name  aman\n",
      "Please enter the name  aman\n",
      "Please enter the name  aman\n",
      "Please enter the name  aman\n",
      "Please enter the name  aman\n",
      "Please enter the name  aman\n",
      "Please enter the name  aman\n",
      "Please enter the name  aman\n",
      "Please enter the name  aman\n",
      "Please enter the name  aman\n",
      "Please enter the name  aman\n",
      "Please enter the name  aman\n",
      "Please enter the name  aman\n",
      "Please enter the name  aman\n",
      "Please enter the name  aman\n",
      "Please enter the name  aman1\n",
      "Please enter the name  aman2\n",
      "Please enter the name  aman3\n",
      "Please enter the name  aman4\n",
      "Please enter the name  aman5\n",
      "Please enter the name  aman6\n",
      "Please enter the name  aman7\n",
      "Please enter the name  aman8\n",
      "Please enter the name  aman9\n"
     ]
    },
    {
     "name": "stdout",
     "output_type": "stream",
     "text": [
      "['aman', 'aman1', 'aman2', 'aman3', 'aman4', 'aman5', 'aman6', 'aman7', 'aman8', 'aman9']\n"
     ]
    }
   ],
   "source": [
    "names = []\n",
    "while len(names) < 10:\n",
    "    name = input(\"Please enter the name \")\n",
    "    if name not in names:\n",
    "        names.append(name)\n",
    "print(names)"
   ]
  },
  {
   "cell_type": "code",
   "execution_count": 8,
   "id": "e5d8ac31-ba28-48c3-82f0-10d863bda6b2",
   "metadata": {},
   "outputs": [],
   "source": [
    "names = [\"Aman\" , \"Preet\" , \"Deep\" , \"Singh\"]\n",
    "accounts = ['651' , '548' , '659' , '745'] \n",
    "amounts  = [1000,2000,3000,4000]"
   ]
  },
  {
   "cell_type": "code",
   "execution_count": 16,
   "id": "388abcd1-26da-4956-9b3e-5cd819fa25dc",
   "metadata": {},
   "outputs": [
    {
     "name": "stdin",
     "output_type": "stream",
     "text": [
      "Please enter the account  548\n"
     ]
    },
    {
     "name": "stdout",
     "output_type": "stream",
     "text": [
      "Hey Preet you have 2000 in your account \n"
     ]
    }
   ],
   "source": [
    "account = input(\"Please enter the account \")\n",
    "if account in accounts:\n",
    "    ind = accounts.index(account)\n",
    "    name = names[ind]\n",
    "    amount = amounts[ind]\n",
    "    print(f\"Hey {name} you have {amount} in your account \")\n",
    "else:\n",
    "    print(\"Invalid Account \")\n"
   ]
  },
  {
   "cell_type": "code",
   "execution_count": null,
   "id": "0dc0191d-69e9-4f81-a1fc-4c4bd60b7185",
   "metadata": {},
   "outputs": [],
   "source": [
    "\"\"\"\n",
    "Tuple:\n",
    "    its data type \n",
    "\n",
    "\n",
    "\"\"\""
   ]
  },
  {
   "cell_type": "code",
   "execution_count": null,
   "id": "7abdbe0b-08ca-4ce2-9751-5871e87332fc",
   "metadata": {},
   "outputs": [],
   "source": []
  },
  {
   "cell_type": "code",
   "execution_count": null,
   "id": "b6fd554f-92c3-4b40-91d2-230e5b25ccc3",
   "metadata": {},
   "outputs": [],
   "source": []
  },
  {
   "cell_type": "code",
   "execution_count": null,
   "id": "e6a431a8-e5f8-42dd-9d56-025707d8d494",
   "metadata": {},
   "outputs": [],
   "source": []
  },
  {
   "cell_type": "code",
   "execution_count": null,
   "id": "cbef76e9-0a7e-4eba-b881-e340a0ebcc69",
   "metadata": {},
   "outputs": [],
   "source": []
  },
  {
   "cell_type": "code",
   "execution_count": null,
   "id": "bb0b811f-133c-4d45-af30-5fb5c52bb8df",
   "metadata": {},
   "outputs": [],
   "source": []
  },
  {
   "cell_type": "code",
   "execution_count": null,
   "id": "c1d23646-06b4-4a9b-823a-e15250653dea",
   "metadata": {},
   "outputs": [],
   "source": []
  },
  {
   "cell_type": "code",
   "execution_count": null,
   "id": "2da4cd5c-a282-4b8f-879f-dc8813a1b038",
   "metadata": {},
   "outputs": [],
   "source": []
  },
  {
   "cell_type": "code",
   "execution_count": null,
   "id": "86cdd8c6-2676-4a4d-abe9-0e26b12363cd",
   "metadata": {},
   "outputs": [],
   "source": []
  },
  {
   "cell_type": "code",
   "execution_count": null,
   "id": "58a4c690-4b6d-4973-820f-3b87cca61b13",
   "metadata": {},
   "outputs": [],
   "source": []
  },
  {
   "cell_type": "code",
   "execution_count": null,
   "id": "d6b99d8c-101c-4a47-908f-92bf091abe26",
   "metadata": {},
   "outputs": [],
   "source": []
  },
  {
   "cell_type": "code",
   "execution_count": null,
   "id": "0a6040ee-cd0e-4c91-b826-752c283d268e",
   "metadata": {},
   "outputs": [],
   "source": []
  },
  {
   "cell_type": "code",
   "execution_count": null,
   "id": "37fc3ef6-a259-47b7-a0f4-d4d174fb0208",
   "metadata": {},
   "outputs": [],
   "source": []
  },
  {
   "cell_type": "code",
   "execution_count": null,
   "id": "5f53f06a-e195-4fc3-9761-e3c8defb623b",
   "metadata": {},
   "outputs": [],
   "source": []
  },
  {
   "cell_type": "code",
   "execution_count": null,
   "id": "dbaa17f6-d542-4a72-aa79-2d615a4a3cc0",
   "metadata": {},
   "outputs": [],
   "source": []
  },
  {
   "cell_type": "code",
   "execution_count": null,
   "id": "dee3043a-0c8d-41d0-bf0b-359930dd95ec",
   "metadata": {},
   "outputs": [],
   "source": []
  },
  {
   "cell_type": "code",
   "execution_count": null,
   "id": "e21c1b21-a016-4b83-83e4-ecc8fee7830c",
   "metadata": {},
   "outputs": [],
   "source": []
  },
  {
   "cell_type": "code",
   "execution_count": null,
   "id": "0348837c-5c9f-4fab-9a88-7a8bd0e36d6f",
   "metadata": {},
   "outputs": [],
   "source": []
  },
  {
   "cell_type": "code",
   "execution_count": null,
   "id": "c41fe259-bf53-40ad-8bd1-b1da65f411e0",
   "metadata": {},
   "outputs": [],
   "source": []
  },
  {
   "cell_type": "code",
   "execution_count": null,
   "id": "370b6192-9b37-4436-b8d8-9f376ddef367",
   "metadata": {},
   "outputs": [],
   "source": []
  },
  {
   "cell_type": "code",
   "execution_count": null,
   "id": "f8f73119-c1d2-42d6-b175-d32a7da762ee",
   "metadata": {},
   "outputs": [],
   "source": []
  },
  {
   "cell_type": "code",
   "execution_count": null,
   "id": "0ea61b35-dfe3-41cb-b6a9-9e2d957bf1f7",
   "metadata": {},
   "outputs": [],
   "source": []
  },
  {
   "cell_type": "code",
   "execution_count": null,
   "id": "5e1ad852-99d4-455f-8dbb-2e96c239aed6",
   "metadata": {},
   "outputs": [],
   "source": []
  },
  {
   "cell_type": "code",
   "execution_count": null,
   "id": "3a0a38f1-2f33-4c74-ae7e-6f02f21ca840",
   "metadata": {},
   "outputs": [],
   "source": []
  },
  {
   "cell_type": "code",
   "execution_count": null,
   "id": "fe9f575a-b6c7-4ac1-b1c5-af5ea514c78e",
   "metadata": {},
   "outputs": [],
   "source": []
  },
  {
   "cell_type": "code",
   "execution_count": null,
   "id": "e45c8f4d-a177-4f96-b3ff-4ac1c1fa4c83",
   "metadata": {},
   "outputs": [],
   "source": []
  },
  {
   "cell_type": "code",
   "execution_count": null,
   "id": "ad235ef7-2948-466b-b7b8-c825e5f6bf7b",
   "metadata": {},
   "outputs": [],
   "source": []
  },
  {
   "cell_type": "code",
   "execution_count": null,
   "id": "2bc0b53d-d381-40f4-bd77-f61b55d287b7",
   "metadata": {},
   "outputs": [],
   "source": []
  }
 ],
 "metadata": {
  "kernelspec": {
   "display_name": "Python 3 (ipykernel)",
   "language": "python",
   "name": "python3"
  },
  "language_info": {
   "codemirror_mode": {
    "name": "ipython",
    "version": 3
   },
   "file_extension": ".py",
   "mimetype": "text/x-python",
   "name": "python",
   "nbconvert_exporter": "python",
   "pygments_lexer": "ipython3",
   "version": "3.12.0"
  }
 },
 "nbformat": 4,
 "nbformat_minor": 5
}
