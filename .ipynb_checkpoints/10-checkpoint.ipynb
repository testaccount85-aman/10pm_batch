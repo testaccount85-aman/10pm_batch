{
 "cells": [
  {
   "cell_type": "code",
   "execution_count": null,
   "id": "fdb68852-d821-4493-8130-acda989810e7",
   "metadata": {},
   "outputs": [],
   "source": [
    "\"\"\"\n",
    "OOPS -> Object Oriented Programming Structer \n",
    "Class and Object \n",
    "class -> Template \n",
    "Object -> Instance of the template \n",
    "Human Being -> Class \n",
    "me , you -> Objects of Human being class \n",
    "\n",
    "Attributes:tell some behaviour of the class or object\n",
    "-> class based attributes = which will be same for every obeject\n",
    "-> instance based attributes = which vary object to object \n",
    "Methods:which do some action \n",
    "\n",
    "\n",
    "\n",
    "\"\"\""
   ]
  },
  {
   "cell_type": "code",
   "execution_count": null,
   "id": "ed14e148-a425-4abb-bf67-93f8ecb70044",
   "metadata": {},
   "outputs": [],
   "source": [
    "#define the class\n",
    "class Aman:\n",
    "    pass\n",
    "#creating the object\n",
    "am = Aman()\n",
    "print(type(am))"
   ]
  },
  {
   "cell_type": "code",
   "execution_count": null,
   "id": "4175c0c8-2fcb-43d7-aa42-ce0314ce35f6",
   "metadata": {},
   "outputs": [],
   "source": [
    "def aman():\n",
    "    return True\n",
    "\n",
    "am = aman()\n",
    "print(type(am))"
   ]
  },
  {
   "cell_type": "code",
   "execution_count": null,
   "id": "518c78aa-6a71-4394-884d-30a7493afa75",
   "metadata": {},
   "outputs": [],
   "source": []
  },
  {
   "cell_type": "code",
   "execution_count": null,
   "id": "6d834031-631d-4a43-b58d-567852016c27",
   "metadata": {},
   "outputs": [],
   "source": [
    "class Employee:\n",
    "    numberofworkinghours = 40\n",
    "\n",
    "emp1 = Employee()\n",
    "emp2 = Employee()\n",
    "emp3 = Employee()\n",
    "emp1.name = \"Aman\""
   ]
  },
  {
   "cell_type": "code",
   "execution_count": null,
   "id": "6ae9104b-0615-440a-add9-3bafdb1e27c9",
   "metadata": {},
   "outputs": [],
   "source": [
    "print(emp1.numberofworkinghours)\n",
    "print(emp2.numberofworkinghours)\n",
    "print(emp3.numberofworkinghours)\n",
    "print(emp1.name)\n",
    "print(emp2.name)"
   ]
  },
  {
   "cell_type": "code",
   "execution_count": null,
   "id": "8d7138cf-0c37-473a-8bb9-8105f25f5222",
   "metadata": {},
   "outputs": [],
   "source": [
    "a = 10\n",
    "print(a.numberofworkinghours)"
   ]
  },
  {
   "cell_type": "code",
   "execution_count": null,
   "id": "734a08a8-6f86-4070-bd8c-73817d1f5d49",
   "metadata": {},
   "outputs": [],
   "source": [
    "class Employee:\n",
    "    numberofworkinghours = 40\n",
    "\n",
    "emp1 = Employee()\n",
    "emp2 = Employee()\n",
    "emp3 = Employee()\n",
    "emp4 = Employee()\n",
    "emp5 = Employee()\n",
    "emp6 = Employee()\n",
    "emp7 = Employee()\n"
   ]
  },
  {
   "cell_type": "code",
   "execution_count": null,
   "id": "71d73d83-0d65-4415-b8fe-2ff23fe13330",
   "metadata": {},
   "outputs": [],
   "source": [
    "print(emp1.numberofworkinghours)\n",
    "print(emp2.numberofworkinghours)\n",
    "print(emp3.numberofworkinghours)\n",
    "print(emp4.numberofworkinghours)\n",
    "print(emp5.numberofworkinghours)\n",
    "print(emp6.numberofworkinghours)\n",
    "print(emp7.numberofworkinghours)\n"
   ]
  },
  {
   "cell_type": "code",
   "execution_count": null,
   "id": "329769da-3e69-4501-954f-4f7d54f785e1",
   "metadata": {},
   "outputs": [],
   "source": [
    "emp4.numberofworkinghours  = 45"
   ]
  },
  {
   "cell_type": "code",
   "execution_count": 9,
   "id": "9b7d34df-1924-4685-aea8-aac697d849ae",
   "metadata": {},
   "outputs": [
    {
     "name": "stdout",
     "output_type": "stream",
     "text": [
      "Target is achived \n"
     ]
    }
   ],
   "source": [
    "class Employee:\n",
    "    target = 5\n",
    "    def targetachiver(self ,  sales):\n",
    "        if sales >= self.target:\n",
    "            print(\"Target is achived \")\n",
    "        else:\n",
    "            print(\"Target is not achived \")\n",
    "\n",
    "emp1 = Employee()\n",
    "emp2 = Employee()\n",
    "# emp1.targetachiver(8)\n",
    "Employee.targetachiver(emp1 , 8)"
   ]
  },
  {
   "cell_type": "code",
   "execution_count": null,
   "id": "7a96abde-a4af-4789-a1bc-a3499a5c34fa",
   "metadata": {},
   "outputs": [],
   "source": []
  },
  {
   "cell_type": "code",
   "execution_count": 11,
   "id": "a212fd29-9eb3-46f8-9b7e-37c4133d5226",
   "metadata": {},
   "outputs": [],
   "source": [
    "a = []\n",
    "a.append(10)\n",
    "list.append(a , \"Aman\")"
   ]
  },
  {
   "cell_type": "code",
   "execution_count": 12,
   "id": "3ff4e0e7-35aa-4eff-8d95-e215396c5aa4",
   "metadata": {},
   "outputs": [
    {
     "data": {
      "text/plain": [
       "[10, 'Aman']"
      ]
     },
     "execution_count": 12,
     "metadata": {},
     "output_type": "execute_result"
    }
   ],
   "source": [
    "a"
   ]
  },
  {
   "cell_type": "code",
   "execution_count": null,
   "id": "fd7fdedf-6b89-4a92-8212-ef988a561137",
   "metadata": {},
   "outputs": [],
   "source": []
  },
  {
   "cell_type": "code",
   "execution_count": null,
   "id": "b4589352-3a49-4b0a-aba7-dd5e13bab255",
   "metadata": {},
   "outputs": [],
   "source": []
  },
  {
   "cell_type": "code",
   "execution_count": null,
   "id": "f5578781-6a7d-4af4-a6c0-5ad0b31ccbe9",
   "metadata": {},
   "outputs": [],
   "source": []
  },
  {
   "cell_type": "code",
   "execution_count": 5,
   "id": "cf129738-2ba7-48c0-845e-587856ef2b88",
   "metadata": {},
   "outputs": [
    {
     "ename": "TypeError",
     "evalue": "aman() takes 2 positional arguments but 3 were given",
     "output_type": "error",
     "traceback": [
      "\u001b[1;31m---------------------------------------------------------------------------\u001b[0m",
      "\u001b[1;31mTypeError\u001b[0m                                 Traceback (most recent call last)",
      "Cell \u001b[1;32mIn[5], line 4\u001b[0m\n\u001b[0;32m      1\u001b[0m \u001b[38;5;28;01mdef\u001b[39;00m \u001b[38;5;21maman\u001b[39m(a ,b):\n\u001b[0;32m      2\u001b[0m     \u001b[38;5;28;01mpass\u001b[39;00m\n\u001b[1;32m----> 4\u001b[0m \u001b[43maman\u001b[49m\u001b[43m(\u001b[49m\u001b[38;5;241;43m10\u001b[39;49m\u001b[43m \u001b[49m\u001b[43m,\u001b[49m\u001b[43m \u001b[49m\u001b[38;5;241;43m20\u001b[39;49m\u001b[43m \u001b[49m\u001b[43m,\u001b[49m\u001b[43m \u001b[49m\u001b[38;5;241;43m30\u001b[39;49m\u001b[43m)\u001b[49m\n",
      "\u001b[1;31mTypeError\u001b[0m: aman() takes 2 positional arguments but 3 were given"
     ]
    }
   ],
   "source": [
    "def aman(a ,b):\n",
    "    pass\n",
    "\n",
    "aman(10 , 20 , 30)"
   ]
  },
  {
   "cell_type": "code",
   "execution_count": null,
   "id": "5e788987-1b76-482d-ae76-e5571738cc94",
   "metadata": {},
   "outputs": [],
   "source": []
  },
  {
   "cell_type": "code",
   "execution_count": null,
   "id": "2b785198-a8c2-4d90-bee3-4ae278351ffc",
   "metadata": {},
   "outputs": [],
   "source": []
  },
  {
   "cell_type": "code",
   "execution_count": null,
   "id": "e99942bb-6fa7-4398-8743-4ca03ee6a6eb",
   "metadata": {},
   "outputs": [],
   "source": []
  },
  {
   "cell_type": "code",
   "execution_count": null,
   "id": "85575140-f2dd-4b91-b8c2-ff1b30af80d3",
   "metadata": {},
   "outputs": [],
   "source": []
  },
  {
   "cell_type": "code",
   "execution_count": null,
   "id": "a1c2aab8-db5e-4c9d-92d3-92132ee0b01a",
   "metadata": {},
   "outputs": [],
   "source": []
  },
  {
   "cell_type": "code",
   "execution_count": null,
   "id": "0dda098b-6a4a-482c-b92f-26897e25a462",
   "metadata": {},
   "outputs": [],
   "source": []
  },
  {
   "cell_type": "code",
   "execution_count": null,
   "id": "33bb2462-7e94-485d-a8c2-f71e50f0feeb",
   "metadata": {},
   "outputs": [],
   "source": []
  },
  {
   "cell_type": "code",
   "execution_count": null,
   "id": "a3c24635-88a9-4a65-9a43-b6eecfa8752e",
   "metadata": {},
   "outputs": [],
   "source": []
  },
  {
   "cell_type": "code",
   "execution_count": null,
   "id": "fa070750-bd7b-4842-b45b-02d7c25d6222",
   "metadata": {},
   "outputs": [],
   "source": []
  },
  {
   "cell_type": "code",
   "execution_count": null,
   "id": "ed830a0f-3e5c-4233-b070-907a82c6b3f7",
   "metadata": {},
   "outputs": [],
   "source": []
  },
  {
   "cell_type": "code",
   "execution_count": null,
   "id": "9b48f506-0849-4c73-9069-47bd6851e18d",
   "metadata": {},
   "outputs": [],
   "source": []
  },
  {
   "cell_type": "code",
   "execution_count": null,
   "id": "91e1fe5f-a24b-4cfc-9f53-63a4dc5ae0d7",
   "metadata": {},
   "outputs": [],
   "source": []
  },
  {
   "cell_type": "code",
   "execution_count": null,
   "id": "6c930bb8-08e1-4983-9ead-81fc5921a1d1",
   "metadata": {},
   "outputs": [],
   "source": []
  },
  {
   "cell_type": "code",
   "execution_count": null,
   "id": "4cf66bac-09c4-4608-9b36-bffc0783e3fc",
   "metadata": {},
   "outputs": [],
   "source": []
  },
  {
   "cell_type": "code",
   "execution_count": null,
   "id": "5d8fcf76-81c3-4026-ab41-0e0da1f696d9",
   "metadata": {},
   "outputs": [],
   "source": []
  },
  {
   "cell_type": "code",
   "execution_count": null,
   "id": "ea3861e8-c09c-496a-81a9-76b43f239afc",
   "metadata": {},
   "outputs": [],
   "source": []
  }
 ],
 "metadata": {
  "kernelspec": {
   "display_name": "Python 3 (ipykernel)",
   "language": "python",
   "name": "python3"
  },
  "language_info": {
   "codemirror_mode": {
    "name": "ipython",
    "version": 3
   },
   "file_extension": ".py",
   "mimetype": "text/x-python",
   "name": "python",
   "nbconvert_exporter": "python",
   "pygments_lexer": "ipython3",
   "version": "3.12.0"
  }
 },
 "nbformat": 4,
 "nbformat_minor": 5
}
