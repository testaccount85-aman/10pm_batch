{
 "cells": [
  {
   "cell_type": "code",
   "execution_count": null,
   "id": "bb217da3-7f23-452f-848a-48e456b8691e",
   "metadata": {},
   "outputs": [],
   "source": [
    "\"\"\"\n",
    "Module -> Python File which consist of definations\n",
    "Packages -> Collection of Modules\n",
    "Libraires -> Collection of Modules and Packages \n",
    "\n",
    "pip install libname \n",
    "sciket-learn -> \n",
    "import sklearn \n",
    "\n",
    "\"\"\""
   ]
  },
  {
   "cell_type": "code",
   "execution_count": 4,
   "id": "44e13b81-83be-4870-8993-d2e6395d17bf",
   "metadata": {},
   "outputs": [
    {
     "name": "stdin",
     "output_type": "stream",
     "text": [
      "Please enter the name  Aman\n"
     ]
    },
    {
     "name": "stdout",
     "output_type": "stream",
     "text": [
      "Please wait for few seconds we are fetching your name \n",
      "Hey the name you mention is  Aman\n"
     ]
    }
   ],
   "source": [
    "import time\n",
    "name = input(\"Please enter the name \")\n",
    "print(\"Please wait for few seconds we are fetching your name \")\n",
    "time.sleep(20)\n",
    "print(\"Hey the name you mention is \" , name )"
   ]
  },
  {
   "cell_type": "code",
   "execution_count": 36,
   "id": "5eb20ffb-703a-4988-8593-16c3d640507c",
   "metadata": {},
   "outputs": [
    {
     "name": "stdout",
     "output_type": "stream",
     "text": [
      "2115\n",
      "Bye Aman\n"
     ]
    }
   ],
   "source": [
    "#generate random number in Python \n",
    "import random\n",
    "print(random.randint(1000, 9999))\n",
    "a = [\"Hey\" , \"Hello\" , \"Hi\" , \"Bye\"]\n",
    "c = random.choice(a)\n",
    "print(f\"{c} Aman\")"
   ]
  },
  {
   "cell_type": "code",
   "execution_count": 42,
   "id": "7d7740b5-8c28-4f24-bacb-7bad587089f9",
   "metadata": {},
   "outputs": [
    {
     "name": "stdout",
     "output_type": "stream",
     "text": [
      "5112\n",
      "Hello Aman\n"
     ]
    }
   ],
   "source": [
    "import random as r\n",
    "print(r.randint(1000, 9999))\n",
    "a = [\"Hey\" , \"Hello\" , \"Hi\" , \"Bye\"]\n",
    "c = r.choice(a)\n",
    "print(f\"{c} Aman\")"
   ]
  },
  {
   "cell_type": "code",
   "execution_count": 43,
   "id": "3eaf20f9-19ea-4e6b-971a-47bc2fb3013a",
   "metadata": {},
   "outputs": [
    {
     "name": "stdout",
     "output_type": "stream",
     "text": [
      "1715\n",
      "Hi Aman\n"
     ]
    }
   ],
   "source": [
    "from random import randint , choice\n",
    "print(randint(1000, 9999))\n",
    "a = [\"Hey\" , \"Hello\" , \"Hi\" , \"Bye\"]\n",
    "c = choice(a)\n",
    "print(f\"{c} Aman\")"
   ]
  },
  {
   "cell_type": "code",
   "execution_count": 50,
   "id": "9575b5f2-ca9c-4001-a34d-77040763dad3",
   "metadata": {},
   "outputs": [
    {
     "name": "stdout",
     "output_type": "stream",
     "text": [
      "6298\n",
      "Hey Aman\n"
     ]
    }
   ],
   "source": [
    "from random import randint as r, choice as ch\n",
    "print(r(1000, 9999))\n",
    "a = [\"Hey\" , \"Hello\" , \"Hi\" , \"Bye\"]\n",
    "c = ch(a)\n",
    "print(f\"{c} Aman\")"
   ]
  },
  {
   "cell_type": "code",
   "execution_count": 54,
   "id": "acf9a089-a51f-4de1-ae41-296885dd45ff",
   "metadata": {},
   "outputs": [
    {
     "name": "stdout",
     "output_type": "stream",
     "text": [
      "5625\n",
      "Bye Aman\n"
     ]
    }
   ],
   "source": [
    "from random import *\n",
    "print(randint(1000, 9999))\n",
    "a = [\"Hey\" , \"Hello\" , \"Hi\" , \"Bye\"]\n",
    "c = choice(a)\n",
    "print(f\"{c} Aman\")"
   ]
  },
  {
   "cell_type": "code",
   "execution_count": 55,
   "id": "a757434c-8e30-45a0-8b47-3368bf835ad1",
   "metadata": {},
   "outputs": [
    {
     "name": "stdout",
     "output_type": "stream",
     "text": [
      "This is deep function in aman.py \n"
     ]
    }
   ],
   "source": [
    "import aman\n",
    "aman.deep()"
   ]
  },
  {
   "cell_type": "code",
   "execution_count": 56,
   "id": "ec997eca-5286-439b-94d4-9ba87c67706c",
   "metadata": {},
   "outputs": [
    {
     "name": "stdout",
     "output_type": "stream",
     "text": [
      "This is deep function in aman.py \n"
     ]
    }
   ],
   "source": [
    "from aman import deep\n",
    "deep()"
   ]
  },
  {
   "cell_type": "code",
   "execution_count": 57,
   "id": "e39d964e-bd2b-48cc-9f79-c00c432fa959",
   "metadata": {},
   "outputs": [
    {
     "name": "stdout",
     "output_type": "stream",
     "text": [
      "This is deep function in aman.py \n"
     ]
    }
   ],
   "source": [
    "from aman import deep as d\n",
    "d()"
   ]
  },
  {
   "cell_type": "code",
   "execution_count": null,
   "id": "f7b57727-e002-4fa5-924b-9c9d02af25a0",
   "metadata": {},
   "outputs": [],
   "source": [
    "from amanpack import aman\n",
    "from amanpack.aman import deep\n",
    "import amanpack.aman as a\n",
    "a.deep()\n"
   ]
  },
  {
   "cell_type": "code",
   "execution_count": null,
   "id": "554d04d7-f54e-4486-a27e-a8140a89d904",
   "metadata": {},
   "outputs": [],
   "source": [
    "# numpy , pandas"
   ]
  },
  {
   "cell_type": "code",
   "execution_count": null,
   "id": "5e073266-0605-48bc-a174-45d99e055d1a",
   "metadata": {},
   "outputs": [],
   "source": []
  },
  {
   "cell_type": "code",
   "execution_count": null,
   "id": "7a01ec85-2c66-4a72-ad5f-f3e600fb3105",
   "metadata": {},
   "outputs": [],
   "source": []
  },
  {
   "cell_type": "code",
   "execution_count": null,
   "id": "05d85404-96a8-4441-98aa-0b5aeeb76af1",
   "metadata": {},
   "outputs": [],
   "source": []
  },
  {
   "cell_type": "code",
   "execution_count": null,
   "id": "f80b7bd8-caac-41dd-9ad4-a0e8a0876273",
   "metadata": {},
   "outputs": [],
   "source": []
  },
  {
   "cell_type": "code",
   "execution_count": null,
   "id": "7c4b4bbc-7371-4e67-aa50-2b9e772ec38f",
   "metadata": {},
   "outputs": [],
   "source": []
  },
  {
   "cell_type": "code",
   "execution_count": null,
   "id": "6e870ce4-bca4-4389-b1d4-57cf4afffb5e",
   "metadata": {},
   "outputs": [],
   "source": []
  },
  {
   "cell_type": "code",
   "execution_count": null,
   "id": "5562e5d5-7714-4d83-b672-ef03d4431fa8",
   "metadata": {},
   "outputs": [],
   "source": []
  },
  {
   "cell_type": "code",
   "execution_count": null,
   "id": "6551c8cc-0211-4b27-a983-c09eba221a23",
   "metadata": {},
   "outputs": [],
   "source": []
  },
  {
   "cell_type": "code",
   "execution_count": null,
   "id": "1af8da80-670d-483e-b18f-03782d20390e",
   "metadata": {},
   "outputs": [],
   "source": []
  },
  {
   "cell_type": "code",
   "execution_count": null,
   "id": "23668c7f-c24b-443a-85ff-9dfeaabd6b3e",
   "metadata": {},
   "outputs": [],
   "source": []
  },
  {
   "cell_type": "code",
   "execution_count": null,
   "id": "60efada3-a8e0-4d57-afc1-90ca2222b357",
   "metadata": {},
   "outputs": [],
   "source": []
  },
  {
   "cell_type": "code",
   "execution_count": null,
   "id": "4289f6b2-d60b-4aff-a245-58f66e490063",
   "metadata": {},
   "outputs": [],
   "source": []
  },
  {
   "cell_type": "code",
   "execution_count": null,
   "id": "af0002eb-dfd8-4b6a-8aa3-58c499cc221b",
   "metadata": {},
   "outputs": [],
   "source": []
  },
  {
   "cell_type": "code",
   "execution_count": null,
   "id": "2c8e7449-3531-4116-a99b-0cbaf6cebbe7",
   "metadata": {},
   "outputs": [],
   "source": []
  },
  {
   "cell_type": "code",
   "execution_count": null,
   "id": "3b41ddd3-5dbc-458a-830f-834036aaa831",
   "metadata": {},
   "outputs": [],
   "source": []
  },
  {
   "cell_type": "code",
   "execution_count": null,
   "id": "eab574b6-d941-4c20-a276-48c2e65491d9",
   "metadata": {},
   "outputs": [],
   "source": []
  },
  {
   "cell_type": "code",
   "execution_count": null,
   "id": "2111a7db-6185-4247-b881-3e9105265f9d",
   "metadata": {},
   "outputs": [],
   "source": []
  },
  {
   "cell_type": "code",
   "execution_count": null,
   "id": "4bb60ea9-5e05-4b17-8dd7-060710f5d1d1",
   "metadata": {},
   "outputs": [],
   "source": []
  },
  {
   "cell_type": "code",
   "execution_count": null,
   "id": "e9e8f85b-da0f-4b48-8a8f-295f49b616c9",
   "metadata": {},
   "outputs": [],
   "source": []
  },
  {
   "cell_type": "code",
   "execution_count": null,
   "id": "8e41e3ea-212d-4a56-a101-8eddbfba166a",
   "metadata": {},
   "outputs": [],
   "source": []
  },
  {
   "cell_type": "code",
   "execution_count": null,
   "id": "fa8c7f9a-840a-42f4-b83a-c48a3bf613dc",
   "metadata": {},
   "outputs": [],
   "source": []
  },
  {
   "cell_type": "code",
   "execution_count": null,
   "id": "fe61043c-1523-4713-8dcd-026cc303edda",
   "metadata": {},
   "outputs": [],
   "source": []
  },
  {
   "cell_type": "code",
   "execution_count": null,
   "id": "81bef755-d399-452a-954d-00b0c34e941f",
   "metadata": {},
   "outputs": [],
   "source": []
  },
  {
   "cell_type": "code",
   "execution_count": null,
   "id": "b48a0156-1d14-4ab7-bf52-0ae8936de2f8",
   "metadata": {},
   "outputs": [],
   "source": []
  },
  {
   "cell_type": "code",
   "execution_count": null,
   "id": "e9ef1ded-2b45-4415-bff7-75a4cb8a0a32",
   "metadata": {},
   "outputs": [],
   "source": []
  }
 ],
 "metadata": {
  "kernelspec": {
   "display_name": "Python 3 (ipykernel)",
   "language": "python",
   "name": "python3"
  },
  "language_info": {
   "codemirror_mode": {
    "name": "ipython",
    "version": 3
   },
   "file_extension": ".py",
   "mimetype": "text/x-python",
   "name": "python",
   "nbconvert_exporter": "python",
   "pygments_lexer": "ipython3",
   "version": "3.12.0"
  }
 },
 "nbformat": 4,
 "nbformat_minor": 5
}
