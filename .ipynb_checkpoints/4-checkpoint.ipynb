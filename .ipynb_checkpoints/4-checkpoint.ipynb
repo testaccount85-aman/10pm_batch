{
 "cells": [
  {
   "cell_type": "code",
   "execution_count": 26,
   "id": "c51ebc0a-2f94-4bb2-8482-93e629d93349",
   "metadata": {},
   "outputs": [
    {
     "name": "stdin",
     "output_type": "stream",
     "text": [
      "Please enter the first number  51\n",
      "Please enter the second number  6515\n"
     ]
    },
    {
     "name": "stdout",
     "output_type": "stream",
     "text": [
      "The sum of 51 and 6515 is 6566\n"
     ]
    }
   ],
   "source": [
    "num1 = int(input(\"Please enter the first number \"))\n",
    "num2 = int(input(\"Please enter the second number \"))\n",
    "# num1 = int(num1)\n",
    "# num2 = int(num2)\n",
    "# num1 , num2 = int(num1) , int(num2)\n",
    "print(f\"The sum of {num1} and {num2} is {num1+num2}\")"
   ]
  },
  {
   "cell_type": "code",
   "execution_count": null,
   "id": "a28bff85-9b65-4ada-a088-ff5f074c3e61",
   "metadata": {},
   "outputs": [],
   "source": []
  },
  {
   "cell_type": "code",
   "execution_count": 20,
   "id": "04c245c1-2b91-42b3-b5a6-0ac6eec49d2f",
   "metadata": {},
   "outputs": [
    {
     "name": "stdin",
     "output_type": "stream",
     "text": [
      "Please enter the name  aman\n",
      "Please enter the age  jsdvh\n"
     ]
    },
    {
     "name": "stdout",
     "output_type": "stream",
     "text": [
      "\n",
      "Hey the name you mention is aman and age is jsdvh\n",
      "\n",
      "After 10 years \n"
     ]
    },
    {
     "ename": "ValueError",
     "evalue": "invalid literal for int() with base 10: 'jsdvh'",
     "output_type": "error",
     "traceback": [
      "\u001b[1;31m---------------------------------------------------------------------------\u001b[0m",
      "\u001b[1;31mValueError\u001b[0m                                Traceback (most recent call last)",
      "Cell \u001b[1;32mIn[20], line 5\u001b[0m\n\u001b[0;32m      3\u001b[0m \u001b[38;5;28mprint\u001b[39m(\u001b[38;5;124mf\u001b[39m\u001b[38;5;124m\"\u001b[39m\u001b[38;5;130;01m\\n\u001b[39;00m\u001b[38;5;124mHey the name you mention is \u001b[39m\u001b[38;5;132;01m{\u001b[39;00mname\u001b[38;5;132;01m}\u001b[39;00m\u001b[38;5;124m and age is \u001b[39m\u001b[38;5;132;01m{\u001b[39;00mage\u001b[38;5;132;01m}\u001b[39;00m\u001b[38;5;130;01m\\n\u001b[39;00m\u001b[38;5;124m\"\u001b[39m)\n\u001b[0;32m      4\u001b[0m \u001b[38;5;28mprint\u001b[39m(\u001b[38;5;124m\"\u001b[39m\u001b[38;5;124mAfter 10 years \u001b[39m\u001b[38;5;124m\"\u001b[39m)\n\u001b[1;32m----> 5\u001b[0m age \u001b[38;5;241m=\u001b[39m \u001b[38;5;28;43mint\u001b[39;49m\u001b[43m(\u001b[49m\u001b[43mage\u001b[49m\u001b[43m)\u001b[49m\n\u001b[0;32m      6\u001b[0m age\u001b[38;5;241m+\u001b[39m\u001b[38;5;241m=\u001b[39m\u001b[38;5;241m10\u001b[39m\n\u001b[0;32m      7\u001b[0m \u001b[38;5;28mprint\u001b[39m(\u001b[38;5;124m\"\u001b[39m\u001b[38;5;124mNow your age is \u001b[39m\u001b[38;5;124m\"\u001b[39m , age )\n",
      "\u001b[1;31mValueError\u001b[0m: invalid literal for int() with base 10: 'jsdvh'"
     ]
    }
   ],
   "source": [
    "name = input(\"Please enter the name \")\n",
    "age = input(\"Please enter the age \")\n",
    "print(f\"\\nHey the name you mention is {name} and age is {age}\\n\")\n",
    "print(\"After 10 years \")\n",
    "age = int(age)\n",
    "age+=10\n",
    "print(\"Now your age is \" , age )"
   ]
  },
  {
   "cell_type": "code",
   "execution_count": null,
   "id": "6c450413-da6b-47b2-bc84-bba048b5bd40",
   "metadata": {},
   "outputs": [],
   "source": [
    "int(x) -> '10' -> 10 , 45.4 -> 45\n",
    "float(x) -> '45.5' -> 45.5 , 45 -> 45.0 \n",
    "str(x) -> 10 -> '10' , 45.5 -> '45.5'\n"
   ]
  },
  {
   "cell_type": "code",
   "execution_count": null,
   "id": "05d93c52-8fb2-4648-a022-74e6767f8aaa",
   "metadata": {},
   "outputs": [],
   "source": [
    "\"\"\"\n",
    "Decision Making Statement\n",
    "\n",
    "if \n",
    "if else\n",
    "nested if \n",
    "elif\n",
    "\n",
    "\n",
    "if condition:\n",
    "    logic\n",
    "\n",
    "\n",
    "\n",
    "\n",
    "    \n",
    "\n",
    "\n",
    "\"\"\""
   ]
  },
  {
   "cell_type": "code",
   "execution_count": 32,
   "id": "664746c6-696f-4e59-8b15-8a97d87d8c1b",
   "metadata": {},
   "outputs": [
    {
     "name": "stdin",
     "output_type": "stream",
     "text": [
      "Please enter the age  10\n"
     ]
    },
    {
     "name": "stdout",
     "output_type": "stream",
     "text": [
      "Age is not satisfying the condition \n",
      "This is outside the block \n"
     ]
    }
   ],
   "source": [
    "age = int(input(\"Please enter the age \"))\n",
    "if age>=18:\n",
    "    print(\"Welcome to the portal \")\n",
    "else:\n",
    "    print(\"Age is not satisfying the condition \")\n",
    "print(\"This is outside the block \")"
   ]
  },
  {
   "cell_type": "code",
   "execution_count": 39,
   "id": "eca1b752-8e71-4d0c-90bf-0be2c33904fa",
   "metadata": {},
   "outputs": [
    {
     "name": "stdin",
     "output_type": "stream",
     "text": [
      "Please enter the first number  10\n",
      "Please enter the second  number  10\n"
     ]
    },
    {
     "name": "stdout",
     "output_type": "stream",
     "text": [
      "else block \n",
      "0\n"
     ]
    }
   ],
   "source": [
    "num1 = int(input(\"Please enter the first number \"))\n",
    "num2 = int(input(\"Please enter the second  number \"))\n",
    "if num1 > num2:\n",
    "    print(\"If block \")\n",
    "    print(num1 - num2 )\n",
    "else:\n",
    "    print(\"else block \")\n",
    "    print(num2 - num1 )"
   ]
  },
  {
   "cell_type": "code",
   "execution_count": null,
   "id": "d4eb1006-8597-42a1-ae98-9d4d76c6142b",
   "metadata": {},
   "outputs": [],
   "source": []
  },
  {
   "cell_type": "code",
   "execution_count": null,
   "id": "250b29d8-d1b8-4742-9c0f-30985d432c9d",
   "metadata": {},
   "outputs": [],
   "source": []
  },
  {
   "cell_type": "code",
   "execution_count": null,
   "id": "927f7877-46e2-4a14-a80f-78ce669c5e11",
   "metadata": {},
   "outputs": [],
   "source": []
  },
  {
   "cell_type": "code",
   "execution_count": null,
   "id": "5fadc7d8-bbc1-42f9-92ea-2baaf28ba74c",
   "metadata": {},
   "outputs": [],
   "source": []
  },
  {
   "cell_type": "code",
   "execution_count": null,
   "id": "6734a622-0f08-416a-8400-e5fba6ee3fbc",
   "metadata": {},
   "outputs": [],
   "source": []
  },
  {
   "cell_type": "code",
   "execution_count": null,
   "id": "20920964-de43-4a47-9d16-6af48280ee33",
   "metadata": {},
   "outputs": [],
   "source": []
  },
  {
   "cell_type": "code",
   "execution_count": null,
   "id": "b6474f92-9644-4783-9dc7-9a397cec1034",
   "metadata": {},
   "outputs": [],
   "source": []
  },
  {
   "cell_type": "code",
   "execution_count": null,
   "id": "171be4bf-a4f5-403b-8730-30b878872984",
   "metadata": {},
   "outputs": [],
   "source": []
  },
  {
   "cell_type": "code",
   "execution_count": null,
   "id": "4ea6e54f-3b94-4727-b9a6-5ca7b936bdeb",
   "metadata": {},
   "outputs": [],
   "source": []
  },
  {
   "cell_type": "code",
   "execution_count": null,
   "id": "8032349b-5118-43c3-9993-5c4e037b78a9",
   "metadata": {},
   "outputs": [],
   "source": []
  },
  {
   "cell_type": "code",
   "execution_count": null,
   "id": "9cc7487e-fa89-4349-bae0-dea2bb1c24e0",
   "metadata": {},
   "outputs": [],
   "source": []
  },
  {
   "cell_type": "code",
   "execution_count": null,
   "id": "11cbd56b-b226-4dbf-8b30-4e70a61e3b47",
   "metadata": {},
   "outputs": [],
   "source": []
  },
  {
   "cell_type": "code",
   "execution_count": null,
   "id": "b8f1041c-2d57-44be-9680-3af969e59136",
   "metadata": {},
   "outputs": [],
   "source": []
  },
  {
   "cell_type": "code",
   "execution_count": null,
   "id": "6c2f6e0b-fffd-4a65-80a6-2c379ff53d29",
   "metadata": {},
   "outputs": [],
   "source": []
  },
  {
   "cell_type": "code",
   "execution_count": null,
   "id": "82fd1a93-c59c-4e43-b52e-ef4f087bdae8",
   "metadata": {},
   "outputs": [],
   "source": []
  },
  {
   "cell_type": "code",
   "execution_count": null,
   "id": "ad729815-b938-42d8-8c80-417b725d163e",
   "metadata": {},
   "outputs": [],
   "source": []
  },
  {
   "cell_type": "code",
   "execution_count": 12,
   "id": "73e9f2cc-a81e-4a2d-b91e-45ec883269ea",
   "metadata": {},
   "outputs": [],
   "source": [
    "a = 10\n",
    "b = 20\n",
    "c = \"Aman\"\n",
    "d = \"Preet\""
   ]
  },
  {
   "cell_type": "code",
   "execution_count": 13,
   "id": "50cda43f-6560-464d-bba6-a935980fc440",
   "metadata": {},
   "outputs": [
    {
     "data": {
      "text/plain": [
       "30"
      ]
     },
     "execution_count": 13,
     "metadata": {},
     "output_type": "execute_result"
    }
   ],
   "source": [
    "a+b"
   ]
  },
  {
   "cell_type": "code",
   "execution_count": 14,
   "id": "de5dc0b1-2406-4720-8bdc-a75dacd1e5a2",
   "metadata": {},
   "outputs": [
    {
     "data": {
      "text/plain": [
       "'AmanPreet'"
      ]
     },
     "execution_count": 14,
     "metadata": {},
     "output_type": "execute_result"
    }
   ],
   "source": [
    "c+d"
   ]
  },
  {
   "cell_type": "code",
   "execution_count": 15,
   "id": "b26e8891-42e1-4bc3-b1aa-9cbe4b4f0fdf",
   "metadata": {},
   "outputs": [
    {
     "ename": "TypeError",
     "evalue": "unsupported operand type(s) for +: 'int' and 'str'",
     "output_type": "error",
     "traceback": [
      "\u001b[1;31m---------------------------------------------------------------------------\u001b[0m",
      "\u001b[1;31mTypeError\u001b[0m                                 Traceback (most recent call last)",
      "Cell \u001b[1;32mIn[15], line 1\u001b[0m\n\u001b[1;32m----> 1\u001b[0m \u001b[43ma\u001b[49m\u001b[38;5;241;43m+\u001b[39;49m\u001b[43mc\u001b[49m\n",
      "\u001b[1;31mTypeError\u001b[0m: unsupported operand type(s) for +: 'int' and 'str'"
     ]
    }
   ],
   "source": [
    "a+c"
   ]
  },
  {
   "cell_type": "code",
   "execution_count": 16,
   "id": "5892ace3-24bc-4f13-9125-49f5e439126e",
   "metadata": {},
   "outputs": [
    {
     "ename": "TypeError",
     "evalue": "can only concatenate str (not \"int\") to str",
     "output_type": "error",
     "traceback": [
      "\u001b[1;31m---------------------------------------------------------------------------\u001b[0m",
      "\u001b[1;31mTypeError\u001b[0m                                 Traceback (most recent call last)",
      "Cell \u001b[1;32mIn[16], line 1\u001b[0m\n\u001b[1;32m----> 1\u001b[0m \u001b[43mc\u001b[49m\u001b[38;5;241;43m+\u001b[39;49m\u001b[43ma\u001b[49m\n",
      "\u001b[1;31mTypeError\u001b[0m: can only concatenate str (not \"int\") to str"
     ]
    }
   ],
   "source": [
    "c+a"
   ]
  },
  {
   "cell_type": "code",
   "execution_count": null,
   "id": "b78bab50-2e64-4df7-a79f-471e1fa01306",
   "metadata": {},
   "outputs": [],
   "source": []
  },
  {
   "cell_type": "code",
   "execution_count": null,
   "id": "db5f1921-62b9-47b6-9f8b-193e125b8529",
   "metadata": {},
   "outputs": [],
   "source": []
  },
  {
   "cell_type": "code",
   "execution_count": null,
   "id": "b3467fbb-a544-4e16-9b9a-5a3b20d918d2",
   "metadata": {},
   "outputs": [],
   "source": []
  },
  {
   "cell_type": "code",
   "execution_count": null,
   "id": "ffd0bb05-eacf-4cc7-8712-5822b90d2872",
   "metadata": {},
   "outputs": [],
   "source": []
  },
  {
   "cell_type": "code",
   "execution_count": null,
   "id": "cb0fc3b0-100a-4977-bd53-997fb9cb9081",
   "metadata": {},
   "outputs": [],
   "source": []
  },
  {
   "cell_type": "code",
   "execution_count": null,
   "id": "dbe035f5-21bd-4439-9cfb-2920383af837",
   "metadata": {},
   "outputs": [],
   "source": []
  },
  {
   "cell_type": "code",
   "execution_count": null,
   "id": "341246cd-b1bf-4351-ab06-af8eb047cb33",
   "metadata": {},
   "outputs": [],
   "source": []
  },
  {
   "cell_type": "code",
   "execution_count": null,
   "id": "9f72ec97-24c2-4206-a9ed-0e9d5ea7a258",
   "metadata": {},
   "outputs": [],
   "source": []
  },
  {
   "cell_type": "code",
   "execution_count": null,
   "id": "3257d08e-0b73-4f26-86af-584f46b1ac6d",
   "metadata": {},
   "outputs": [],
   "source": []
  },
  {
   "cell_type": "code",
   "execution_count": null,
   "id": "74020c76-0056-4b5a-9eef-4afbde083432",
   "metadata": {},
   "outputs": [],
   "source": []
  },
  {
   "cell_type": "code",
   "execution_count": null,
   "id": "2689b35b-9c93-4745-9ba9-8fc1151365ff",
   "metadata": {},
   "outputs": [],
   "source": []
  },
  {
   "cell_type": "code",
   "execution_count": null,
   "id": "eac80d89-ffab-4a8e-ba8d-fec55a46b2ae",
   "metadata": {},
   "outputs": [],
   "source": []
  },
  {
   "cell_type": "code",
   "execution_count": null,
   "id": "102f6d62-7d10-4fbf-83a5-6c1a98ddcc7f",
   "metadata": {},
   "outputs": [],
   "source": []
  },
  {
   "cell_type": "code",
   "execution_count": null,
   "id": "c1bb3948-52ac-4ef5-afa8-cbfcca9f904c",
   "metadata": {},
   "outputs": [],
   "source": []
  },
  {
   "cell_type": "code",
   "execution_count": null,
   "id": "27a25699-c34d-4ad0-bd50-e04bba12d576",
   "metadata": {},
   "outputs": [],
   "source": []
  },
  {
   "cell_type": "code",
   "execution_count": null,
   "id": "5d05a9a7-ba72-4fe9-8702-91c70b8e6753",
   "metadata": {},
   "outputs": [],
   "source": []
  },
  {
   "cell_type": "code",
   "execution_count": null,
   "id": "dbe981af-e561-4773-8bff-728b3d2d0379",
   "metadata": {},
   "outputs": [],
   "source": []
  },
  {
   "cell_type": "code",
   "execution_count": null,
   "id": "0563fc29-3dea-496b-a934-932cbd1b176b",
   "metadata": {},
   "outputs": [],
   "source": []
  },
  {
   "cell_type": "code",
   "execution_count": null,
   "id": "a6025e7c-1b91-4d01-ae21-6a25037e71cb",
   "metadata": {},
   "outputs": [],
   "source": []
  },
  {
   "cell_type": "code",
   "execution_count": null,
   "id": "e78120ea-69b9-409a-b12c-471ec46c1893",
   "metadata": {},
   "outputs": [],
   "source": []
  },
  {
   "cell_type": "code",
   "execution_count": null,
   "id": "d371300c-0dbc-4ad0-be2f-4123353059d0",
   "metadata": {},
   "outputs": [],
   "source": []
  },
  {
   "cell_type": "code",
   "execution_count": null,
   "id": "39eb4338-8635-4f38-bb9b-336fce761c3b",
   "metadata": {},
   "outputs": [],
   "source": []
  }
 ],
 "metadata": {
  "kernelspec": {
   "display_name": "Python 3 (ipykernel)",
   "language": "python",
   "name": "python3"
  },
  "language_info": {
   "codemirror_mode": {
    "name": "ipython",
    "version": 3
   },
   "file_extension": ".py",
   "mimetype": "text/x-python",
   "name": "python",
   "nbconvert_exporter": "python",
   "pygments_lexer": "ipython3",
   "version": "3.12.0"
  }
 },
 "nbformat": 4,
 "nbformat_minor": 5
}
