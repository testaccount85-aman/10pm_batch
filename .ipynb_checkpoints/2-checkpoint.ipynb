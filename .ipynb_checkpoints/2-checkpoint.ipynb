{
 "cells": [
  {
   "cell_type": "code",
   "execution_count": 1,
   "id": "040dedb2-d8f0-4f55-a2a8-b2d4389169c8",
   "metadata": {},
   "outputs": [],
   "source": [
    "name = \"Aman\"\n",
    "age = 39"
   ]
  },
  {
   "cell_type": "code",
   "execution_count": 5,
   "id": "2c9b4207-31f8-4dd6-b327-01efa20c5c4e",
   "metadata": {},
   "outputs": [
    {
     "name": "stdout",
     "output_type": "stream",
     "text": [
      "Aman\n",
      "name\n"
     ]
    },
    {
     "ename": "NameError",
     "evalue": "name 'Name' is not defined",
     "output_type": "error",
     "traceback": [
      "\u001b[1;31m---------------------------------------------------------------------------\u001b[0m",
      "\u001b[1;31mNameError\u001b[0m                                 Traceback (most recent call last)",
      "Cell \u001b[1;32mIn[5], line 3\u001b[0m\n\u001b[0;32m      1\u001b[0m \u001b[38;5;28mprint\u001b[39m(name)\n\u001b[0;32m      2\u001b[0m \u001b[38;5;28mprint\u001b[39m(\u001b[38;5;124m\"\u001b[39m\u001b[38;5;124mname\u001b[39m\u001b[38;5;124m\"\u001b[39m)\n\u001b[1;32m----> 3\u001b[0m \u001b[38;5;28mprint\u001b[39m(\u001b[43mName\u001b[49m)\n\u001b[0;32m      4\u001b[0m \u001b[38;5;28mprint\u001b[39m(\u001b[38;5;124m\"\u001b[39m\u001b[38;5;124mAman\u001b[39m\u001b[38;5;124m\"\u001b[39m)\n",
      "\u001b[1;31mNameError\u001b[0m: name 'Name' is not defined"
     ]
    }
   ],
   "source": [
    "print(name)\n",
    "print(\"name\")\n",
    "print(Name)\n",
    "print(\"Aman\")"
   ]
  },
  {
   "cell_type": "code",
   "execution_count": 6,
   "id": "455eebb8-0068-4498-aed6-eb384ded232d",
   "metadata": {},
   "outputs": [],
   "source": [
    "a = 10\n",
    "b = 20"
   ]
  },
  {
   "cell_type": "code",
   "execution_count": 11,
   "id": "a4cbbd0c-dfed-415c-bccc-296959e9ba41",
   "metadata": {},
   "outputs": [],
   "source": [
    "a , b , c = 10,20 , 30 "
   ]
  },
  {
   "cell_type": "code",
   "execution_count": 14,
   "id": "c16a30cb-cb4a-4b8d-9155-4247062bd300",
   "metadata": {},
   "outputs": [],
   "source": [
    "a = b =c=d=50"
   ]
  },
  {
   "cell_type": "code",
   "execution_count": 13,
   "id": "dacd291b-733a-4dfc-b590-9ae5f8676da3",
   "metadata": {},
   "outputs": [
    {
     "name": "stdout",
     "output_type": "stream",
     "text": [
      "50\n",
      "50\n",
      "50\n",
      "50\n"
     ]
    }
   ],
   "source": [
    "print(a)\n",
    "print(b)\n",
    "print(c)\n",
    "print(d)\n"
   ]
  },
  {
   "cell_type": "code",
   "execution_count": 22,
   "id": "33518890-e7b7-4cae-a143-ba8e94a57252",
   "metadata": {},
   "outputs": [],
   "source": [
    "name = \"test\"\n",
    "age = 39"
   ]
  },
  {
   "cell_type": "code",
   "execution_count": 19,
   "id": "09299a6a-2c9f-4941-afb7-63f9fd37ae73",
   "metadata": {},
   "outputs": [
    {
     "name": "stdout",
     "output_type": "stream",
     "text": [
      "My name is  Amanpreet\n",
      "My age is  39\n",
      "My name is  Amanpreet  and age is  39\n"
     ]
    }
   ],
   "source": [
    "print(\"My name is \" , name)\n",
    "print(\"My age is \" , age)\n",
    "print(\"My name is \" , name , \" and age is \" , age )"
   ]
  },
  {
   "cell_type": "code",
   "execution_count": 23,
   "id": "32f6bcae-6559-4390-b37d-37152aa4458b",
   "metadata": {},
   "outputs": [
    {
     "name": "stdout",
     "output_type": "stream",
     "text": [
      "My name is test and age is 39 \n"
     ]
    }
   ],
   "source": [
    "sentence = f\"My name is {name} and age is {age} \"\n",
    "print(sentence)"
   ]
  },
  {
   "cell_type": "code",
   "execution_count": null,
   "id": "6f1650fd-ac35-41fd-9df9-e670ffe0e257",
   "metadata": {},
   "outputs": [],
   "source": [
    "name = \"Amanpreet\"\n",
    "age = 39\n",
    "salary = 65165165\n",
    "designation = \"Sr Data Engineer\"\n"
   ]
  },
  {
   "cell_type": "code",
   "execution_count": null,
   "id": "21aef6f3-fe50-454a-98a7-3ad8cd9112a2",
   "metadata": {},
   "outputs": [],
   "source": [
    "1name x\n",
    "name1\n",
    "name2\n",
    "first1name\n",
    "Name\n",
    "spaces are not allowed\n",
    "my first name \n",
    "\n",
    "\n",
    "\n",
    "myfirstname\n",
    "my_first_name -> snake cases\n",
    "myFirstName -> cammle cases "
   ]
  },
  {
   "cell_type": "code",
   "execution_count": null,
   "id": "9730dcc2-d1f7-4b7f-ba51-6fb4be37cc25",
   "metadata": {},
   "outputs": [],
   "source": []
  },
  {
   "cell_type": "code",
   "execution_count": null,
   "id": "96d4f0fb-d442-4131-8f1d-aecac1d14811",
   "metadata": {},
   "outputs": [],
   "source": []
  },
  {
   "cell_type": "code",
   "execution_count": null,
   "id": "b005d03a-fa6b-4a9c-9835-0dac036de6d6",
   "metadata": {},
   "outputs": [],
   "source": []
  },
  {
   "cell_type": "code",
   "execution_count": null,
   "id": "6d04d0c1-8a6d-4a27-9947-482aa8f625ec",
   "metadata": {},
   "outputs": [],
   "source": []
  },
  {
   "cell_type": "code",
   "execution_count": null,
   "id": "9834d0ec-cfb3-44c6-8a60-6059c48ac6c6",
   "metadata": {},
   "outputs": [],
   "source": []
  },
  {
   "cell_type": "code",
   "execution_count": null,
   "id": "38574f53-3583-40fb-a11d-5e95b3290890",
   "metadata": {},
   "outputs": [],
   "source": []
  },
  {
   "cell_type": "code",
   "execution_count": null,
   "id": "3aeae2e8-bfc0-412e-ac25-d50c16809405",
   "metadata": {},
   "outputs": [],
   "source": []
  },
  {
   "cell_type": "code",
   "execution_count": null,
   "id": "93b4440a-778f-4897-a9e4-44ddf4cecf0c",
   "metadata": {},
   "outputs": [],
   "source": []
  },
  {
   "cell_type": "code",
   "execution_count": null,
   "id": "8f592a2f-cee7-46a3-8404-34039fd8f56c",
   "metadata": {},
   "outputs": [],
   "source": []
  },
  {
   "cell_type": "code",
   "execution_count": null,
   "id": "f9a105a3-2ae4-4fe6-bf47-813cc8f5cef9",
   "metadata": {},
   "outputs": [],
   "source": []
  },
  {
   "cell_type": "code",
   "execution_count": null,
   "id": "45ec42c3-fb4b-4d47-b724-62960ff93b40",
   "metadata": {},
   "outputs": [],
   "source": []
  },
  {
   "cell_type": "code",
   "execution_count": null,
   "id": "15cc9c02-36f0-4f60-951c-e496f74478a3",
   "metadata": {},
   "outputs": [],
   "source": []
  },
  {
   "cell_type": "code",
   "execution_count": null,
   "id": "851baa89-b513-422a-b479-95fdfc95dddf",
   "metadata": {},
   "outputs": [],
   "source": []
  },
  {
   "cell_type": "code",
   "execution_count": null,
   "id": "ef06f050-8ffd-4952-95eb-a314d32478df",
   "metadata": {},
   "outputs": [],
   "source": []
  },
  {
   "cell_type": "code",
   "execution_count": null,
   "id": "894bae4a-2aba-4d6e-b270-ac30c528e281",
   "metadata": {},
   "outputs": [],
   "source": []
  },
  {
   "cell_type": "code",
   "execution_count": null,
   "id": "8a97d4d5-5bd1-48a5-8bcb-b64f185c9dc2",
   "metadata": {},
   "outputs": [],
   "source": []
  },
  {
   "cell_type": "code",
   "execution_count": null,
   "id": "ead3cf4a-895d-4ab2-929c-53433ed8d5d1",
   "metadata": {},
   "outputs": [],
   "source": []
  },
  {
   "cell_type": "code",
   "execution_count": null,
   "id": "d7db0303-7c45-4006-82a9-2fd6ac4169ee",
   "metadata": {},
   "outputs": [],
   "source": []
  },
  {
   "cell_type": "code",
   "execution_count": null,
   "id": "dcf19856-8d23-40ea-9a45-b9aab2136282",
   "metadata": {},
   "outputs": [],
   "source": []
  },
  {
   "cell_type": "code",
   "execution_count": null,
   "id": "e0f16aa5-f38f-49d5-8987-af7bdfe8362b",
   "metadata": {},
   "outputs": [],
   "source": []
  },
  {
   "cell_type": "code",
   "execution_count": null,
   "id": "9ee1986d-0566-4246-8654-1e07fc199c3a",
   "metadata": {},
   "outputs": [],
   "source": []
  },
  {
   "cell_type": "code",
   "execution_count": null,
   "id": "ae765253-7141-48cb-99d7-5dd66c906f42",
   "metadata": {},
   "outputs": [],
   "source": []
  },
  {
   "cell_type": "code",
   "execution_count": null,
   "id": "48e1cd84-dffb-4e42-acd4-3a441cd85475",
   "metadata": {},
   "outputs": [],
   "source": []
  },
  {
   "cell_type": "code",
   "execution_count": null,
   "id": "ddf74bca-ed70-4191-8a8f-ab97cec7e0ed",
   "metadata": {},
   "outputs": [],
   "source": []
  },
  {
   "cell_type": "code",
   "execution_count": null,
   "id": "76eedd4a-ab6a-4a74-8031-ff3b4327328d",
   "metadata": {},
   "outputs": [],
   "source": []
  },
  {
   "cell_type": "code",
   "execution_count": null,
   "id": "676a1761-9c07-4c8e-9c5f-b91b8da8ce4a",
   "metadata": {},
   "outputs": [],
   "source": []
  }
 ],
 "metadata": {
  "kernelspec": {
   "display_name": "Python 3 (ipykernel)",
   "language": "python",
   "name": "python3"
  },
  "language_info": {
   "codemirror_mode": {
    "name": "ipython",
    "version": 3
   },
   "file_extension": ".py",
   "mimetype": "text/x-python",
   "name": "python",
   "nbconvert_exporter": "python",
   "pygments_lexer": "ipython3",
   "version": "3.12.0"
  }
 },
 "nbformat": 4,
 "nbformat_minor": 5
}
