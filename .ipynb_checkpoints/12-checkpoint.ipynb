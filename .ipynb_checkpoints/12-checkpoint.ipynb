{
 "cells": [
  {
   "cell_type": "code",
   "execution_count": 1,
   "id": "5b5c6e49-e9c6-48a8-a8b6-62fc62916317",
   "metadata": {},
   "outputs": [],
   "source": [
    "a = [1,2,3,4,5,6,7,8,9,10]"
   ]
  },
  {
   "cell_type": "code",
   "execution_count": 2,
   "id": "f0c01a8e-5d58-416b-81ba-053279af3f49",
   "metadata": {},
   "outputs": [],
   "source": [
    "b = []\n",
    "for i in a:\n",
    "    b.append(i*2)"
   ]
  },
  {
   "cell_type": "code",
   "execution_count": 3,
   "id": "e75df44a-ff58-41b3-8ce0-90e2f55252c0",
   "metadata": {},
   "outputs": [
    {
     "data": {
      "text/plain": [
       "[2, 4, 6, 8, 10, 12, 14, 16, 18, 20]"
      ]
     },
     "execution_count": 3,
     "metadata": {},
     "output_type": "execute_result"
    }
   ],
   "source": [
    "b"
   ]
  },
  {
   "cell_type": "code",
   "execution_count": 4,
   "id": "31ceb27c-4df0-4862-85aa-91b6e9c11846",
   "metadata": {},
   "outputs": [
    {
     "name": "stdout",
     "output_type": "stream",
     "text": [
      "[2, 4, 6, 8, 10, 12, 14, 16, 18, 20]\n"
     ]
    }
   ],
   "source": [
    "c = [i*2 for i in a]\n",
    "print(c)"
   ]
  },
  {
   "cell_type": "code",
   "execution_count": 7,
   "id": "a90cd12c-2dea-4193-b84e-6fdbbd036910",
   "metadata": {},
   "outputs": [
    {
     "name": "stdout",
     "output_type": "stream",
     "text": [
      "[2, 4, 6, 8, 10]\n"
     ]
    }
   ],
   "source": [
    "b = []\n",
    "for i in a:\n",
    "    if i%2==0:\n",
    "        b.append(i)\n",
    "print(b)"
   ]
  },
  {
   "cell_type": "code",
   "execution_count": 8,
   "id": "0a16a869-2317-40da-8ffa-4a2e783667d3",
   "metadata": {},
   "outputs": [],
   "source": [
    "c = [i for i in a if i%2==0]"
   ]
  },
  {
   "cell_type": "code",
   "execution_count": 9,
   "id": "c355e0aa-adb3-43e4-b4e1-410dd231f3c1",
   "metadata": {},
   "outputs": [
    {
     "data": {
      "text/plain": [
       "[2, 4, 6, 8, 10]"
      ]
     },
     "execution_count": 9,
     "metadata": {},
     "output_type": "execute_result"
    }
   ],
   "source": [
    "c"
   ]
  },
  {
   "cell_type": "code",
   "execution_count": 11,
   "id": "cb0ceac2-9e24-49e2-82d7-d4a920af24fe",
   "metadata": {},
   "outputs": [],
   "source": [
    "a\n",
    "b = []\n",
    "for i in a:\n",
    "    if i%2==0:\n",
    "        b.append(f\"Even - {i}\")\n",
    "    else:\n",
    "        b.append(f\"ODD - {i}\")"
   ]
  },
  {
   "cell_type": "code",
   "execution_count": 13,
   "id": "c2f99de0-51a7-4747-bb7e-aa92c516d9ac",
   "metadata": {},
   "outputs": [
    {
     "name": "stdout",
     "output_type": "stream",
     "text": [
      "['ODD - 1', 'Even - 2', 'ODD - 3', 'Even - 4', 'ODD - 5', 'Even - 6', 'ODD - 7', 'Even - 8', 'ODD - 9', 'Even - 10']\n"
     ]
    }
   ],
   "source": [
    "print(b)"
   ]
  },
  {
   "cell_type": "code",
   "execution_count": 14,
   "id": "ede32c49-3dbc-47f8-80e1-7ec3e06bbaa6",
   "metadata": {},
   "outputs": [
    {
     "name": "stdout",
     "output_type": "stream",
     "text": [
      "['Odd - 1', 'Even - 2', 'Odd - 3', 'Even - 4', 'Odd - 5', 'Even - 6', 'Odd - 7', 'Even - 8', 'Odd - 9', 'Even - 10']\n"
     ]
    }
   ],
   "source": [
    "c = [f\"Even - {i}\" if i%2==0 else f\"Odd - {i}\" for i in a]\n",
    "print(c)"
   ]
  },
  {
   "cell_type": "code",
   "execution_count": 18,
   "id": "4e2aaee7-2127-4d76-bce1-9303457d86cc",
   "metadata": {},
   "outputs": [],
   "source": [
    "a = lambda : \"My name is aman\""
   ]
  },
  {
   "cell_type": "code",
   "execution_count": 19,
   "id": "8859099f-1491-4fc4-b225-ac698a471875",
   "metadata": {},
   "outputs": [
    {
     "data": {
      "text/plain": [
       "'My name is aman'"
      ]
     },
     "execution_count": 19,
     "metadata": {},
     "output_type": "execute_result"
    }
   ],
   "source": [
    "a()"
   ]
  },
  {
   "cell_type": "code",
   "execution_count": 20,
   "id": "f33a58e5-406e-4cea-9432-530b3fddf3d1",
   "metadata": {},
   "outputs": [],
   "source": [
    "a = lambda x, y: x+y"
   ]
  },
  {
   "cell_type": "code",
   "execution_count": 21,
   "id": "5c3ba86b-5ef7-4618-8eca-f1560acb9d45",
   "metadata": {},
   "outputs": [
    {
     "data": {
      "text/plain": [
       "30"
      ]
     },
     "execution_count": 21,
     "metadata": {},
     "output_type": "execute_result"
    }
   ],
   "source": [
    "a(10 , 20)"
   ]
  },
  {
   "cell_type": "code",
   "execution_count": 22,
   "id": "15f036e8-f765-4185-97e8-e560df882563",
   "metadata": {},
   "outputs": [],
   "source": [
    "#map and filter "
   ]
  },
  {
   "cell_type": "code",
   "execution_count": 24,
   "id": "349ab994-8ba8-417d-8c45-378d781d595d",
   "metadata": {},
   "outputs": [],
   "source": [
    "a = [1,2,3,4,5,6,7,8,9,10]"
   ]
  },
  {
   "cell_type": "code",
   "execution_count": 25,
   "id": "92595574-c427-4c44-b90b-917a836ab358",
   "metadata": {},
   "outputs": [],
   "source": [
    "def aman(x):\n",
    "    return x*2"
   ]
  },
  {
   "cell_type": "code",
   "execution_count": 27,
   "id": "b1c8d71d-cdee-4455-8e18-499814df8670",
   "metadata": {},
   "outputs": [
    {
     "data": {
      "text/plain": [
       "[2, 4, 6, 8, 10, 12, 14, 16, 18, 20]"
      ]
     },
     "execution_count": 27,
     "metadata": {},
     "output_type": "execute_result"
    }
   ],
   "source": [
    "list(map(aman , a))"
   ]
  },
  {
   "cell_type": "code",
   "execution_count": 28,
   "id": "784710b8-6f70-42ed-88e7-1f97fa321a7a",
   "metadata": {},
   "outputs": [
    {
     "data": {
      "text/plain": [
       "[2, 4, 6, 8, 10, 12, 14, 16, 18, 20]"
      ]
     },
     "execution_count": 28,
     "metadata": {},
     "output_type": "execute_result"
    }
   ],
   "source": [
    "list(map(lambda x : x*2 , a))"
   ]
  },
  {
   "cell_type": "code",
   "execution_count": 30,
   "id": "a43aba5a-462f-415d-9cbe-e0959bd6633b",
   "metadata": {},
   "outputs": [
    {
     "data": {
      "text/plain": [
       "[2, 4, 6, 8, 10]"
      ]
     },
     "execution_count": 30,
     "metadata": {},
     "output_type": "execute_result"
    }
   ],
   "source": [
    "list(filter(lambda x: x%2==0 , a) )"
   ]
  },
  {
   "cell_type": "code",
   "execution_count": 31,
   "id": "484cd89f-e6fc-43ef-b020-93fa0239406a",
   "metadata": {},
   "outputs": [],
   "source": [
    "def aman():\n",
    "    print(a+b)"
   ]
  },
  {
   "cell_type": "code",
   "execution_count": 34,
   "id": "6a5ea8bf-5429-4617-a925-f6b0ac5365ed",
   "metadata": {},
   "outputs": [
    {
     "ename": "TypeError",
     "evalue": "aman() takes 2 positional arguments but 5 were given",
     "output_type": "error",
     "traceback": [
      "\u001b[1;31m---------------------------------------------------------------------------\u001b[0m",
      "\u001b[1;31mTypeError\u001b[0m                                 Traceback (most recent call last)",
      "Cell \u001b[1;32mIn[34], line 1\u001b[0m\n\u001b[1;32m----> 1\u001b[0m \u001b[43maman\u001b[49m\u001b[43m(\u001b[49m\u001b[38;5;241;43m10\u001b[39;49m\u001b[43m \u001b[49m\u001b[43m,\u001b[49m\u001b[43m \u001b[49m\u001b[38;5;241;43m30\u001b[39;49m\u001b[43m \u001b[49m\u001b[43m,\u001b[49m\u001b[43m \u001b[49m\u001b[38;5;241;43m50\u001b[39;49m\u001b[43m \u001b[49m\u001b[43m,\u001b[49m\u001b[43m \u001b[49m\u001b[38;5;241;43m50\u001b[39;49m\u001b[43m \u001b[49m\u001b[43m,\u001b[49m\u001b[43m \u001b[49m\u001b[38;5;241;43m60\u001b[39;49m\u001b[43m)\u001b[49m\n",
      "\u001b[1;31mTypeError\u001b[0m: aman() takes 2 positional arguments but 5 were given"
     ]
    }
   ],
   "source": [
    "aman(10 , 30 , 50 , 50 , 60)"
   ]
  },
  {
   "cell_type": "code",
   "execution_count": 42,
   "id": "492bc50c-6a63-4680-beea-d4cfe945a024",
   "metadata": {},
   "outputs": [],
   "source": [
    "def aman(*z):\n",
    "    print(sum(z))"
   ]
  },
  {
   "cell_type": "code",
   "execution_count": 43,
   "id": "e6b1af31-e196-45cc-b688-269d541b42b5",
   "metadata": {},
   "outputs": [
    {
     "name": "stdout",
     "output_type": "stream",
     "text": [
      "182\n"
     ]
    }
   ],
   "source": [
    "aman(10,20,30,4,50,60,5,3)"
   ]
  },
  {
   "cell_type": "code",
   "execution_count": 44,
   "id": "5de84c50-0a9e-4893-9400-69c4c0e22444",
   "metadata": {},
   "outputs": [],
   "source": [
    "def aman(**kwargs):\n",
    "    print(kwargs)\n"
   ]
  },
  {
   "cell_type": "code",
   "execution_count": 45,
   "id": "939e0b6c-55af-43a9-8ca1-3f679333fbec",
   "metadata": {},
   "outputs": [
    {
     "name": "stdout",
     "output_type": "stream",
     "text": [
      "{'name': 'Aman', 'age': 39}\n"
     ]
    }
   ],
   "source": [
    "aman(name = \"Aman\" , age = 39)"
   ]
  },
  {
   "cell_type": "code",
   "execution_count": 46,
   "id": "862c5aa5-0660-40b4-8cfd-5d9208b16a52",
   "metadata": {},
   "outputs": [],
   "source": [
    "def aman(a , b , c = 10 , *args , **kwargs):\n",
    "    print(a)\n",
    "    print(b)\n",
    "    print(c)\n",
    "    print(args)\n",
    "    print(kwargs)"
   ]
  },
  {
   "cell_type": "code",
   "execution_count": 53,
   "id": "f40c470e-2365-44da-bbe2-f0d4eac9da26",
   "metadata": {},
   "outputs": [
    {
     "name": "stdout",
     "output_type": "stream",
     "text": [
      "30\n",
      "50\n",
      "60\n",
      "(90, 110)\n",
      "{'name': 'Aman'}\n"
     ]
    }
   ],
   "source": [
    "aman(30 , 50,60,90,110 ,name = \"Aman\" )"
   ]
  },
  {
   "cell_type": "code",
   "execution_count": 70,
   "id": "5fae9560-a924-46b8-b0e0-c78b16dce6b3",
   "metadata": {},
   "outputs": [
    {
     "name": "stdin",
     "output_type": "stream",
     "text": [
      "Please enter the first number  ksjnf\n"
     ]
    },
    {
     "name": "stdout",
     "output_type": "stream",
     "text": [
      "Something Went Wrong\n"
     ]
    }
   ],
   "source": [
    "try:\n",
    "    num1 = int(input(\"Please enter the first number \"))\n",
    "    num2 = int(input(\"Please enter the second number \"))\n",
    "    result = num1/num2\n",
    "except ZeroDivisionError:\n",
    "    result = \"Number can  not divide by 0\"\n",
    "except:\n",
    "    result = \"Something Went Wrong\"\n",
    "else:\n",
    "    print(\"It work when except not work \")\n",
    "finally:\n",
    "    print(result)"
   ]
  },
  {
   "cell_type": "code",
   "execution_count": null,
   "id": "6ab13e04-7d75-4df1-b3be-19e5ca9247b7",
   "metadata": {},
   "outputs": [],
   "source": [
    "if condition:\n",
    "    print(\"if\")\n",
    "else:\n",
    "    print(\"else \")"
   ]
  },
  {
   "cell_type": "code",
   "execution_count": null,
   "id": "08540f0b-84bb-4fa5-b61d-4ade492f1e59",
   "metadata": {},
   "outputs": [],
   "source": []
  },
  {
   "cell_type": "code",
   "execution_count": null,
   "id": "1b39b3a1-0843-4ace-bcc7-a4f7371c223f",
   "metadata": {},
   "outputs": [],
   "source": []
  },
  {
   "cell_type": "code",
   "execution_count": null,
   "id": "ab143247-e180-4fc6-a5fc-39a5754d1f04",
   "metadata": {},
   "outputs": [],
   "source": []
  },
  {
   "cell_type": "code",
   "execution_count": null,
   "id": "803dbf85-37d5-4007-b8dd-1f7dc0255616",
   "metadata": {},
   "outputs": [],
   "source": []
  },
  {
   "cell_type": "code",
   "execution_count": null,
   "id": "7dae8a1b-9337-4083-8369-52d9ead0ad9a",
   "metadata": {},
   "outputs": [],
   "source": []
  },
  {
   "cell_type": "code",
   "execution_count": null,
   "id": "e67320dc-0a71-4727-8267-8e6fb57ee81b",
   "metadata": {},
   "outputs": [],
   "source": []
  },
  {
   "cell_type": "code",
   "execution_count": null,
   "id": "61f0364a-3bc1-4199-9807-67f14bc08773",
   "metadata": {},
   "outputs": [],
   "source": []
  },
  {
   "cell_type": "code",
   "execution_count": null,
   "id": "8b99cc23-cd33-4738-921f-ef5e44e5bef5",
   "metadata": {},
   "outputs": [],
   "source": []
  },
  {
   "cell_type": "code",
   "execution_count": null,
   "id": "9d1fc81d-e9b3-4ce2-9990-2e4db6f7d107",
   "metadata": {},
   "outputs": [],
   "source": []
  },
  {
   "cell_type": "code",
   "execution_count": null,
   "id": "8978c2da-ab23-4cd2-855b-89de6560ac07",
   "metadata": {},
   "outputs": [],
   "source": []
  },
  {
   "cell_type": "code",
   "execution_count": null,
   "id": "fafa6034-826b-4bb8-8389-9f6391d813e0",
   "metadata": {},
   "outputs": [],
   "source": []
  }
 ],
 "metadata": {
  "kernelspec": {
   "display_name": "Python 3 (ipykernel)",
   "language": "python",
   "name": "python3"
  },
  "language_info": {
   "codemirror_mode": {
    "name": "ipython",
    "version": 3
   },
   "file_extension": ".py",
   "mimetype": "text/x-python",
   "name": "python",
   "nbconvert_exporter": "python",
   "pygments_lexer": "ipython3",
   "version": "3.12.0"
  }
 },
 "nbformat": 4,
 "nbformat_minor": 5
}
