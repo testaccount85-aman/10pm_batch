{
 "cells": [
  {
   "cell_type": "code",
   "execution_count": null,
   "id": "83ab9b31-84c4-47be-bf3f-d22efd72467a",
   "metadata": {},
   "outputs": [],
   "source": [
    "class Aman:\n",
    "    def set_details(self , name):\n",
    "        pass\n",
    "\n",
    "\n",
    "am1 = Aman()\n",
    "am2 = Aman()\n",
    "am1.set_details(\"Deep\")\n",
    "am2.set_details(\"Aman\")"
   ]
  },
  {
   "cell_type": "code",
   "execution_count": null,
   "id": "49395808-da80-4f2d-8b6f-8507864c6f5f",
   "metadata": {},
   "outputs": [],
   "source": [
    "class Aman:\n",
    "    def set_detials(self , name , age):\n",
    "        self.myname = name\n",
    "        self.myage = age\n",
    "\n",
    "    def get_details(self):\n",
    "        print(self.myname)\n",
    "        print(self.myage)\n",
    "am1 = Aman()\n",
    "am2 = Aman()\n",
    "am1.set_detials(\"Aman\" , 40)\n",
    "am1.get_details()\n",
    "am2.get_details()"
   ]
  },
  {
   "cell_type": "code",
   "execution_count": null,
   "id": "d10b6976-cdc1-48d0-895a-c1a96f20f259",
   "metadata": {},
   "outputs": [],
   "source": [
    "class Aman:\n",
    "    def __init__(self , name , age):\n",
    "        self.myname = name\n",
    "        self.myage = age\n",
    "    def getter(self):\n",
    "        print(self.myname)\n",
    "        print(self.myage)\n",
    "\n",
    "    @staticmethod\n",
    "    def welcomemessage():\n",
    "        print(\"Hey Welcome to the team\")\n",
    "\n",
    "am1 = Aman(\"Deep\" , 40)\n",
    "am2 = Aman(\"Preet\" , 39)\n",
    "\n",
    "am1.welcomemessage()\n",
    "am2.welcomemessage()"
   ]
  },
  {
   "cell_type": "code",
   "execution_count": 4,
   "id": "1e57a525-aad5-4e2c-90b4-5450c96c3258",
   "metadata": {},
   "outputs": [
    {
     "name": "stdout",
     "output_type": "stream",
     "text": [
      "10\n",
      "10\n",
      "10\n"
     ]
    }
   ],
   "source": [
    "class Aman:\n",
    "    sales = 0\n",
    "\n",
    "    @classmethod\n",
    "    def change_sales(cls , new_sales):\n",
    "        cls.sales = new_sales\n",
    "\n",
    "am1 = Aman()\n",
    "am2 = Aman()\n",
    "am1.change_sales(10)\n",
    "print(am1.sales)\n",
    "print(am2.sales)\n",
    "am3 = Aman()\n",
    "print(am3.sales)"
   ]
  },
  {
   "cell_type": "code",
   "execution_count": null,
   "id": "aef858cb-b219-4dc3-b94c-970f91988c3b",
   "metadata": {},
   "outputs": [],
   "source": [
    "class Employee:\n",
    "    numberofworkinghours = 40\n",
    "\n",
    "emp1 = Employee()\n",
    "emp2 = Employee()\n",
    "emp1.numberofworkinghours = 45\n",
    "print(emp1.numberofworkinghours)\n",
    "print(emp2.numberofworkinghours)"
   ]
  },
  {
   "cell_type": "code",
   "execution_count": null,
   "id": "06c26723-71a7-4bc8-91e4-4cc1705a24bd",
   "metadata": {},
   "outputs": [],
   "source": []
  },
  {
   "cell_type": "code",
   "execution_count": null,
   "id": "e38ffa46-f7d1-402f-9469-19acb6eb0596",
   "metadata": {},
   "outputs": [],
   "source": []
  },
  {
   "cell_type": "code",
   "execution_count": 9,
   "id": "c1e6b700-6663-4e0e-bf25-26d3ccae232e",
   "metadata": {},
   "outputs": [
    {
     "name": "stdout",
     "output_type": "stream",
     "text": [
      "This macbook is manufactured in  2024\n",
      "For more detials contact at www.apple.com/contact\n"
     ]
    }
   ],
   "source": [
    "class Apple:\n",
    "    contact_details = \"www.apple.com/contact\"\n",
    "\n",
    "class Macbook(Apple):\n",
    "    manufactured_year = 2024\n",
    "\n",
    "mac = Macbook()\n",
    "print(\"This macbook is manufactured in \" ,mac.manufactured_year)\n",
    "print(\"For more detials contact at\" , mac.contact_details)"
   ]
  },
  {
   "cell_type": "code",
   "execution_count": 13,
   "id": "87ec7d87-d54f-4de2-a57f-1d6453f65f90",
   "metadata": {},
   "outputs": [
    {
     "name": "stdout",
     "output_type": "stream",
     "text": [
      "This is cde method in class C\n",
      "This is bcd method in class B\n"
     ]
    }
   ],
   "source": [
    "class A:\n",
    "    def abc(self):\n",
    "        print(\"This is abc method in class A\")\n",
    "class B:\n",
    "    def abc(self):\n",
    "        print(\"This is bcd method in class B\")\n",
    "class C(B,A):\n",
    "    def cde(self):\n",
    "        print(\"This is cde method in class C\")\n",
    "cobj = C()\n",
    "cobj.cde()\n",
    "cobj.abc()\n",
    "# cobj.bcd()"
   ]
  },
  {
   "cell_type": "code",
   "execution_count": null,
   "id": "217ca674-d083-4cb9-a051-a5a6312f98f5",
   "metadata": {},
   "outputs": [],
   "source": []
  },
  {
   "cell_type": "code",
   "execution_count": 15,
   "id": "b0e953a2-ca57-443c-8a5c-fa161d3b8597",
   "metadata": {},
   "outputs": [
    {
     "name": "stdout",
     "output_type": "stream",
     "text": [
      "This is cde method in class C\n"
     ]
    }
   ],
   "source": [
    "class A:\n",
    "    def abc(self):\n",
    "        print(\"This is abc method in class A\")\n",
    "class B(A):\n",
    "    def abc(self):\n",
    "        print(\"This is bcd method in class B\")\n",
    "class C(B):\n",
    "    def abc(self):\n",
    "        print(\"This is cde method in class C\")\n",
    "cobj = C()\n",
    "# cobj.cde()\n",
    "cobj.abc()\n",
    "# cobj.bcd()"
   ]
  },
  {
   "cell_type": "code",
   "execution_count": null,
   "id": "5d914dcb-0975-41bd-93b0-461ed3212f2d",
   "metadata": {},
   "outputs": [],
   "source": []
  },
  {
   "cell_type": "code",
   "execution_count": null,
   "id": "c7e11eb0-7b5f-4403-997d-bb6032c86ae2",
   "metadata": {},
   "outputs": [],
   "source": []
  },
  {
   "cell_type": "code",
   "execution_count": null,
   "id": "6076e59f-c6f8-42e7-8a33-794d8d72c59d",
   "metadata": {},
   "outputs": [],
   "source": []
  },
  {
   "cell_type": "code",
   "execution_count": null,
   "id": "d3cfab88-c077-4b65-9307-ef55f5e9687a",
   "metadata": {},
   "outputs": [],
   "source": []
  },
  {
   "cell_type": "code",
   "execution_count": null,
   "id": "f3ca0eed-bc88-48de-a7e3-1e6c44c83e31",
   "metadata": {},
   "outputs": [],
   "source": []
  },
  {
   "cell_type": "code",
   "execution_count": null,
   "id": "97646ecc-4958-4120-9c85-25d30e31e464",
   "metadata": {},
   "outputs": [],
   "source": []
  },
  {
   "cell_type": "code",
   "execution_count": null,
   "id": "d1e8d1d6-1cb3-4248-a2c5-f170334283dd",
   "metadata": {},
   "outputs": [],
   "source": []
  },
  {
   "cell_type": "code",
   "execution_count": null,
   "id": "b33177b1-4039-4629-99d1-6442c7101040",
   "metadata": {},
   "outputs": [],
   "source": []
  },
  {
   "cell_type": "code",
   "execution_count": null,
   "id": "51317e6f-ccff-4bfd-9cab-34c5466496dc",
   "metadata": {},
   "outputs": [],
   "source": []
  },
  {
   "cell_type": "code",
   "execution_count": null,
   "id": "a5f6e04a-642e-45f4-a27b-ae01a736fbca",
   "metadata": {},
   "outputs": [],
   "source": []
  },
  {
   "cell_type": "code",
   "execution_count": null,
   "id": "3d974028-6b97-4516-8864-a5febbf48d1c",
   "metadata": {},
   "outputs": [],
   "source": []
  },
  {
   "cell_type": "code",
   "execution_count": null,
   "id": "c326743e-2757-4d9c-b262-a706c6753364",
   "metadata": {},
   "outputs": [],
   "source": []
  },
  {
   "cell_type": "code",
   "execution_count": null,
   "id": "44465d00-b655-4482-91b4-9532f6460ada",
   "metadata": {},
   "outputs": [],
   "source": []
  },
  {
   "cell_type": "code",
   "execution_count": null,
   "id": "4bc5be39-61cb-4897-a3f4-c700ce465686",
   "metadata": {},
   "outputs": [],
   "source": []
  },
  {
   "cell_type": "code",
   "execution_count": null,
   "id": "c7fb5197-ab28-4be2-924b-a4846acbd78a",
   "metadata": {},
   "outputs": [],
   "source": []
  },
  {
   "cell_type": "code",
   "execution_count": null,
   "id": "f85b88ab-f1e5-4059-9137-5b34f18ffcf5",
   "metadata": {},
   "outputs": [],
   "source": []
  },
  {
   "cell_type": "code",
   "execution_count": null,
   "id": "2b7d1017-b1a7-44f6-8668-3682db442e9d",
   "metadata": {},
   "outputs": [],
   "source": []
  },
  {
   "cell_type": "code",
   "execution_count": null,
   "id": "406c8769-d588-45b8-890d-6c7d3c7da0ca",
   "metadata": {},
   "outputs": [],
   "source": []
  },
  {
   "cell_type": "code",
   "execution_count": null,
   "id": "e28412e7-cce0-4f4e-9328-82bb069ac566",
   "metadata": {},
   "outputs": [],
   "source": []
  },
  {
   "cell_type": "code",
   "execution_count": null,
   "id": "51758f5a-2e26-4394-a15d-544f1b0e5538",
   "metadata": {},
   "outputs": [],
   "source": []
  },
  {
   "cell_type": "code",
   "execution_count": null,
   "id": "ba6b5a0f-563e-42a4-844a-60d0ac3961a6",
   "metadata": {},
   "outputs": [],
   "source": []
  },
  {
   "cell_type": "code",
   "execution_count": null,
   "id": "9f959728-6707-44dd-991a-4377f86937c7",
   "metadata": {},
   "outputs": [],
   "source": []
  },
  {
   "cell_type": "code",
   "execution_count": null,
   "id": "13b34ce5-094d-4562-a1f3-2be70f98fd7c",
   "metadata": {},
   "outputs": [],
   "source": []
  },
  {
   "cell_type": "code",
   "execution_count": null,
   "id": "87792a6d-d136-4de8-b5eb-5483867ac0ac",
   "metadata": {},
   "outputs": [],
   "source": []
  },
  {
   "cell_type": "code",
   "execution_count": null,
   "id": "ac3360ac-00b9-4c8e-ac76-b4102e4326e7",
   "metadata": {},
   "outputs": [],
   "source": []
  },
  {
   "cell_type": "code",
   "execution_count": null,
   "id": "3c7533e2-108e-41dd-8356-0136b43a2e87",
   "metadata": {},
   "outputs": [],
   "source": []
  },
  {
   "cell_type": "code",
   "execution_count": null,
   "id": "6a1b9046-e03a-4539-a7b8-76fd74c90c2d",
   "metadata": {},
   "outputs": [],
   "source": []
  }
 ],
 "metadata": {
  "kernelspec": {
   "display_name": "Python 3 (ipykernel)",
   "language": "python",
   "name": "python3"
  },
  "language_info": {
   "codemirror_mode": {
    "name": "ipython",
    "version": 3
   },
   "file_extension": ".py",
   "mimetype": "text/x-python",
   "name": "python",
   "nbconvert_exporter": "python",
   "pygments_lexer": "ipython3",
   "version": "3.12.0"
  }
 },
 "nbformat": 4,
 "nbformat_minor": 5
}
