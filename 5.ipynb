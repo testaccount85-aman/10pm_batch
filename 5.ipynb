{
 "cells": [
  {
   "cell_type": "code",
   "execution_count": 1,
   "id": "de376d35-b32b-4c0c-9c4f-ba8b6d412e54",
   "metadata": {},
   "outputs": [],
   "source": [
    "USERNAME = \"aman\"\n",
    "PASSWORD = \"147852\""
   ]
  },
  {
   "cell_type": "code",
   "execution_count": 5,
   "id": "904f509a-68cd-417c-8dc6-f474a0c335b6",
   "metadata": {},
   "outputs": [
    {
     "name": "stdin",
     "output_type": "stream",
     "text": [
      "Please enter the username  aman\n",
      "Please enter the password  147852\n"
     ]
    },
    {
     "name": "stdout",
     "output_type": "stream",
     "text": [
      "Hey You are logged in \n"
     ]
    }
   ],
   "source": [
    "username = input(\"Please enter the username \")\n",
    "password = input(\"Please enter the password \")\n",
    "if username == USERNAME and password == PASSWORD:\n",
    "    print(\"Hey You are logged in \")\n",
    "else:\n",
    "    print(\"Invalid credentials \")"
   ]
  },
  {
   "cell_type": "code",
   "execution_count": 8,
   "id": "bb2ea18b-9938-490a-9c75-50bd35d6dec0",
   "metadata": {},
   "outputs": [
    {
     "name": "stdin",
     "output_type": "stream",
     "text": [
      "Please enter the username  aman\n",
      "Please enter the password  147852\n"
     ]
    },
    {
     "name": "stdout",
     "output_type": "stream",
     "text": [
      "Hey You are logged in \n"
     ]
    }
   ],
   "source": [
    "username = input(\"Please enter the username \")\n",
    "if username == USERNAME:\n",
    "    password = input(\"Please enter the password \")\n",
    "    if password == PASSWORD:\n",
    "        print(\"Hey You are logged in \")\n",
    "    else:\n",
    "        print(\"Password is incorrect \")\n",
    "else:\n",
    "    print(\"Username is in correct \")"
   ]
  },
  {
   "cell_type": "code",
   "execution_count": 11,
   "id": "585b2d5b-7b02-45f9-aab1-70799e8a7ea5",
   "metadata": {},
   "outputs": [
    {
     "name": "stdin",
     "output_type": "stream",
     "text": [
      "Please enter the username  aman\n",
      "Please enter the password  147852\n"
     ]
    },
    {
     "name": "stdout",
     "output_type": "stream",
     "text": [
      "Hey You are logged in \n"
     ]
    }
   ],
   "source": [
    "username = input(\"Please enter the username \")\n",
    "if username !=USERNAME:\n",
    "    print(\"Invalid Username \")\n",
    "else:\n",
    "    password = input(\"Please enter the password \")\n",
    "    if password == PASSWORD:\n",
    "        print(\"Hey You are logged in \")\n",
    "    else:\n",
    "        print(\"Password is incorrect \")"
   ]
  },
  {
   "cell_type": "code",
   "execution_count": 20,
   "id": "30cd826f-0216-44d6-b8dc-5dbcc187b0d0",
   "metadata": {},
   "outputs": [
    {
     "name": "stdin",
     "output_type": "stream",
     "text": [
      "Please enter the name  deep\n"
     ]
    },
    {
     "name": "stdout",
     "output_type": "stream",
     "text": [
      "Hey Deep\n"
     ]
    }
   ],
   "source": [
    "name = input(\"Please enter the name \")#aman\n",
    "if name == \"aman\":\n",
    "    print(\"Hey Aman\")\n",
    "elif name == \"preet\":\n",
    "    print(\"Hey Preet\")\n",
    "elif name == \"deep\":\n",
    "    print(\"Hey Deep\")\n",
    "else:\n",
    "    print(\"Invalid name \")"
   ]
  },
  {
   "cell_type": "code",
   "execution_count": 25,
   "id": "0ca24592-9433-4e5e-8e18-33155cf39619",
   "metadata": {},
   "outputs": [
    {
     "name": "stdout",
     "output_type": "stream",
     "text": [
      "Press 1 for addition \n",
      "Press 2 for Subtraction \n",
      "Press 3 for Division \n",
      "Press 4 for Multipication \n",
      "Press 5 for Exit \n"
     ]
    },
    {
     "name": "stdin",
     "output_type": "stream",
     "text": [
      " 1\n"
     ]
    },
    {
     "name": "stdout",
     "output_type": "stream",
     "text": [
      "Press 1 for addition \n",
      "Press 2 for Subtraction \n",
      "Press 3 for Division \n",
      "Press 4 for Multipication \n",
      "Press 5 for Exit \n"
     ]
    },
    {
     "name": "stdin",
     "output_type": "stream",
     "text": [
      " 5\n"
     ]
    }
   ],
   "source": [
    "while True:\n",
    "    print(\"Press 1 for addition \")\n",
    "    print(\"Press 2 for Subtraction \")\n",
    "    print(\"Press 3 for Division \")\n",
    "    print(\"Press 4 for Multipication \")\n",
    "    print(\"Press 5 for Exit \")\n",
    "    choice = input()\n",
    "    if choice == '1':\n",
    "        pass\n",
    "    elif choice == '2':\n",
    "        num1 = int(input(\"Please enter the First number \"))\n",
    "        num2 = int(input(\"Please enter the second number \"))\n",
    "        if num1 > num2:\n",
    "            print(num1 - num2)\n",
    "        else:\n",
    "            print(num2 - num1 )\n",
    "    elif choice == '3':\n",
    "        pass\n",
    "    elif choice == '4':\n",
    "        pass\n",
    "    elif choice == '5':\n",
    "        break\n",
    "    else:\n",
    "        print(\"Invalid choice \")"
   ]
  },
  {
   "cell_type": "code",
   "execution_count": null,
   "id": "0d775a23-f197-4d4e-b418-625000ced667",
   "metadata": {},
   "outputs": [],
   "source": [
    "\"\"\"\n",
    "Loop:\n",
    "    continues Repetation \n",
    "\n",
    "    While loop -> Infinite type of loop\n",
    "    for loop -> Finite type of loop \n",
    "\n",
    "\n",
    "while condition:\n",
    "    logic \n",
    "\n",
    "\"\"\""
   ]
  },
  {
   "cell_type": "code",
   "execution_count": 24,
   "id": "36ffacef-7c3f-4010-be1e-f22e26eff5a1",
   "metadata": {},
   "outputs": [
    {
     "name": "stdout",
     "output_type": "stream",
     "text": [
      "Aman 10\n",
      "Aman 20\n",
      "Aman 30\n",
      "Aman 40\n",
      "Aman 50\n",
      "Aman 60\n",
      "Aman 70\n",
      "Aman 80\n",
      "Aman 90\n",
      "Aman 100\n"
     ]
    }
   ],
   "source": [
    "a = 10\n",
    "while True:\n",
    "    pass\n",
    "    "
   ]
  },
  {
   "cell_type": "code",
   "execution_count": null,
   "id": "b8fa37f8-2324-4cc3-a0d4-3f6303c76fb6",
   "metadata": {},
   "outputs": [],
   "source": []
  },
  {
   "cell_type": "code",
   "execution_count": null,
   "id": "970d8288-496e-4daa-8aeb-2a1f69e56de6",
   "metadata": {},
   "outputs": [],
   "source": []
  },
  {
   "cell_type": "code",
   "execution_count": null,
   "id": "dde9355f-45d5-4132-8c58-99f0c39b0c12",
   "metadata": {},
   "outputs": [],
   "source": []
  },
  {
   "cell_type": "code",
   "execution_count": null,
   "id": "c24ac40e-035a-40f8-b3a3-14b10d0fe5bf",
   "metadata": {},
   "outputs": [],
   "source": []
  },
  {
   "cell_type": "code",
   "execution_count": null,
   "id": "264e4f6d-d1fb-4e29-94d7-df3cb14e21b7",
   "metadata": {},
   "outputs": [],
   "source": []
  },
  {
   "cell_type": "code",
   "execution_count": null,
   "id": "7cacf57e-b03b-449b-aa65-bce7363df660",
   "metadata": {},
   "outputs": [],
   "source": []
  },
  {
   "cell_type": "code",
   "execution_count": null,
   "id": "48da07ce-49d7-4f40-a6b4-22038a4ef3ed",
   "metadata": {},
   "outputs": [],
   "source": []
  },
  {
   "cell_type": "code",
   "execution_count": null,
   "id": "88225400-60e4-45d3-97c6-3a4f63abb3f8",
   "metadata": {},
   "outputs": [],
   "source": []
  },
  {
   "cell_type": "code",
   "execution_count": null,
   "id": "b49afd1f-afcd-4a86-839b-db8760434f3f",
   "metadata": {},
   "outputs": [],
   "source": []
  },
  {
   "cell_type": "code",
   "execution_count": null,
   "id": "10508ed5-9a40-4a2f-b842-0e290e80a8c2",
   "metadata": {},
   "outputs": [],
   "source": []
  },
  {
   "cell_type": "code",
   "execution_count": null,
   "id": "ce40604b-26f6-4096-8f63-9800ff7f1c00",
   "metadata": {},
   "outputs": [],
   "source": []
  },
  {
   "cell_type": "code",
   "execution_count": null,
   "id": "20a8ff6b-6ed8-4950-95dd-9fafa21e0c65",
   "metadata": {},
   "outputs": [],
   "source": []
  },
  {
   "cell_type": "code",
   "execution_count": null,
   "id": "94f9fa28-8709-45f6-a8e6-0193a2edfd75",
   "metadata": {},
   "outputs": [],
   "source": []
  },
  {
   "cell_type": "code",
   "execution_count": null,
   "id": "9d464dee-c783-47f9-b1e1-b04fe8ef24a8",
   "metadata": {},
   "outputs": [],
   "source": []
  },
  {
   "cell_type": "code",
   "execution_count": null,
   "id": "0421a8b6-ef1b-4170-86f7-ab0cb8567cd8",
   "metadata": {},
   "outputs": [],
   "source": []
  },
  {
   "cell_type": "code",
   "execution_count": null,
   "id": "24cb68dc-70c9-4389-ab54-76574f1f2abf",
   "metadata": {},
   "outputs": [],
   "source": []
  },
  {
   "cell_type": "code",
   "execution_count": null,
   "id": "702b8802-d124-4893-bdb4-bc120f77aa05",
   "metadata": {},
   "outputs": [],
   "source": []
  },
  {
   "cell_type": "code",
   "execution_count": null,
   "id": "31730006-b598-462c-9134-0ea59ad9f92b",
   "metadata": {},
   "outputs": [],
   "source": []
  },
  {
   "cell_type": "code",
   "execution_count": null,
   "id": "c695c5de-ceba-4f68-b5c8-9ecc8e827bb5",
   "metadata": {},
   "outputs": [],
   "source": []
  },
  {
   "cell_type": "code",
   "execution_count": null,
   "id": "ebd4d345-e1fa-4260-8367-d7d893b4356f",
   "metadata": {},
   "outputs": [],
   "source": []
  },
  {
   "cell_type": "code",
   "execution_count": null,
   "id": "68457261-8986-431f-84f2-8c57dab9253d",
   "metadata": {},
   "outputs": [],
   "source": []
  },
  {
   "cell_type": "code",
   "execution_count": null,
   "id": "e1c4b170-8c20-49c2-896d-071f559aeba7",
   "metadata": {},
   "outputs": [],
   "source": []
  },
  {
   "cell_type": "code",
   "execution_count": null,
   "id": "797ddcba-f453-4e26-aab9-a31f4d88c6af",
   "metadata": {},
   "outputs": [],
   "source": []
  },
  {
   "cell_type": "code",
   "execution_count": null,
   "id": "04f31276-4e0d-4c7c-8708-4920ca7971b1",
   "metadata": {},
   "outputs": [],
   "source": []
  },
  {
   "cell_type": "code",
   "execution_count": null,
   "id": "25fb47d4-75b3-4c21-be32-13990702c7bc",
   "metadata": {},
   "outputs": [],
   "source": []
  },
  {
   "cell_type": "code",
   "execution_count": null,
   "id": "ad1ce1d3-ed81-4e0b-84ee-04905917603a",
   "metadata": {},
   "outputs": [],
   "source": []
  },
  {
   "cell_type": "code",
   "execution_count": null,
   "id": "7d392ba1-0955-4ba6-a719-67615b8a28b9",
   "metadata": {},
   "outputs": [],
   "source": []
  },
  {
   "cell_type": "code",
   "execution_count": null,
   "id": "44f5920e-798a-46c2-ab16-b547e3dfc90a",
   "metadata": {},
   "outputs": [],
   "source": []
  }
 ],
 "metadata": {
  "kernelspec": {
   "display_name": "Python 3 (ipykernel)",
   "language": "python",
   "name": "python3"
  },
  "language_info": {
   "codemirror_mode": {
    "name": "ipython",
    "version": 3
   },
   "file_extension": ".py",
   "mimetype": "text/x-python",
   "name": "python",
   "nbconvert_exporter": "python",
   "pygments_lexer": "ipython3",
   "version": "3.12.0"
  }
 },
 "nbformat": 4,
 "nbformat_minor": 5
}
