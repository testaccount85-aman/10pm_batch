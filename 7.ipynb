{
 "cells": [
  {
   "cell_type": "code",
   "execution_count": null,
   "id": "e60f4fd0-672d-4505-80a1-0460ff8c6e10",
   "metadata": {},
   "outputs": [],
   "source": [
    "\"\"\"\n",
    "Functions:\n",
    "    predefine functions:\n",
    "        print() , type() , input() , int() , float , str() , range()\n",
    "    user define function :\n",
    "\n",
    "    def nameofthefunction()\n",
    "\n",
    "simple function - without any argument without any return type \n",
    "function with argument \n",
    "function with return type \n",
    "\"\"\""
   ]
  },
  {
   "cell_type": "code",
   "execution_count": null,
   "id": "9dbbb8cd-387e-4fd6-bb3c-1c6e6b80c80d",
   "metadata": {},
   "outputs": [],
   "source": [
    "def aman():\n",
    "    num1 = int(input(\"Please enter the first number \"))\n",
    "    num2 = int(input(\"Please enter the second number \"))\n",
    "    print(num1+num2)"
   ]
  },
  {
   "cell_type": "code",
   "execution_count": null,
   "id": "2c99e7a3-3c7c-4416-b57d-05746b8057fc",
   "metadata": {},
   "outputs": [],
   "source": [
    "aman()\n",
    "aman()"
   ]
  },
  {
   "cell_type": "code",
   "execution_count": null,
   "id": "d6db47e1-891a-4318-a4ec-4e879f54b533",
   "metadata": {},
   "outputs": [],
   "source": [
    "def aman(a , b):\n",
    "    print(a-b)"
   ]
  },
  {
   "cell_type": "code",
   "execution_count": null,
   "id": "856df967-cc82-405f-b813-358a0377baf1",
   "metadata": {},
   "outputs": [],
   "source": [
    "num1 = int(input(\"Please enter the first number \"))\n",
    "num2 = int(input(\"Please enter the second number \"))\n",
    "if num1 > num2:\n",
    "    aman(num1 , num2)\n",
    "else:\n",
    "    aman(num2 , num1)"
   ]
  },
  {
   "cell_type": "code",
   "execution_count": null,
   "id": "e7cd82a5-20ab-480c-af47-231cd504400f",
   "metadata": {},
   "outputs": [],
   "source": [
    "def aman(a =10, b= 20):\n",
    "    print(a+b)"
   ]
  },
  {
   "cell_type": "code",
   "execution_count": null,
   "id": "654c381d-84a3-4933-8bce-94ad72a7c33a",
   "metadata": {},
   "outputs": [],
   "source": [
    "aman(b = 50 , a = 60)"
   ]
  },
  {
   "cell_type": "code",
   "execution_count": null,
   "id": "3b746895-afe4-4223-99b2-652156d88fb7",
   "metadata": {},
   "outputs": [],
   "source": [
    "# def aman(a , b , c= 10 , d):\n",
    "#     pass\n",
    "def aman(a,b,d , c = 10):\n",
    "    pass"
   ]
  },
  {
   "cell_type": "code",
   "execution_count": null,
   "id": "025682ea-38fc-48a7-8c5c-589c5d7e83e1",
   "metadata": {},
   "outputs": [],
   "source": [
    "def aman(a , b):\n",
    "    num1 = int(input(\"Please enter the first number \"))\n",
    "    num2 = int(input(\"Please enter the second number \"))\n",
    "    result = num1+num2\n",
    "    return num1 , num2 , result"
   ]
  },
  {
   "cell_type": "code",
   "execution_count": null,
   "id": "2668acff-c08c-4731-a1a0-bdb8c632343e",
   "metadata": {},
   "outputs": [],
   "source": [
    "a , b, c = aman(10,20)\n",
    "print(f\"The sum of {a} and {b} is {c}\")"
   ]
  },
  {
   "cell_type": "code",
   "execution_count": null,
   "id": "93aa044b-7f0b-4795-bb50-cc9bc5e9ed78",
   "metadata": {},
   "outputs": [],
   "source": [
    "int('10')"
   ]
  },
  {
   "cell_type": "code",
   "execution_count": 7,
   "id": "43215949-c6a8-4020-b1c9-5fb31852089d",
   "metadata": {},
   "outputs": [
    {
     "name": "stdout",
     "output_type": "stream",
     "text": [
      "20\n"
     ]
    }
   ],
   "source": [
    "a = 10\n",
    "def aman():\n",
    "    global a\n",
    "    a = 20\n",
    "aman()\n",
    "print(a)"
   ]
  },
  {
   "cell_type": "code",
   "execution_count": null,
   "id": "11561dfc-28ce-4849-92cf-fe974efc92a3",
   "metadata": {},
   "outputs": [],
   "source": []
  },
  {
   "cell_type": "code",
   "execution_count": null,
   "id": "740a143e-b877-4219-af05-a0d9dfa5699d",
   "metadata": {},
   "outputs": [],
   "source": []
  },
  {
   "cell_type": "code",
   "execution_count": null,
   "id": "59c38709-f045-44ad-8e29-dcdc6b120bc1",
   "metadata": {},
   "outputs": [],
   "source": []
  },
  {
   "cell_type": "code",
   "execution_count": null,
   "id": "62664bc0-f607-4fe3-8684-358a70b699ed",
   "metadata": {},
   "outputs": [],
   "source": []
  },
  {
   "cell_type": "code",
   "execution_count": null,
   "id": "dafa5669-be95-4a7b-8160-c00de4eb267e",
   "metadata": {},
   "outputs": [],
   "source": []
  },
  {
   "cell_type": "code",
   "execution_count": null,
   "id": "b6d0fc49-148a-4541-8ec8-e63d2445b273",
   "metadata": {},
   "outputs": [],
   "source": []
  },
  {
   "cell_type": "code",
   "execution_count": null,
   "id": "ef1d4e09-dae2-4429-8180-2b780735e322",
   "metadata": {},
   "outputs": [],
   "source": []
  },
  {
   "cell_type": "code",
   "execution_count": null,
   "id": "e6f39952-8273-48cb-98f8-3e711a389499",
   "metadata": {},
   "outputs": [],
   "source": []
  },
  {
   "cell_type": "code",
   "execution_count": null,
   "id": "e928e3d3-b409-4891-9f6d-6f786e112360",
   "metadata": {},
   "outputs": [],
   "source": []
  },
  {
   "cell_type": "code",
   "execution_count": null,
   "id": "f65ab655-1b78-4f83-a9fb-50eaae877a86",
   "metadata": {},
   "outputs": [],
   "source": []
  },
  {
   "cell_type": "code",
   "execution_count": null,
   "id": "1001fca4-d8ad-4fb7-bcc5-2dba542023a8",
   "metadata": {},
   "outputs": [],
   "source": []
  },
  {
   "cell_type": "code",
   "execution_count": null,
   "id": "8d42172f-9997-4897-a781-6ade8525aa18",
   "metadata": {},
   "outputs": [],
   "source": []
  },
  {
   "cell_type": "code",
   "execution_count": null,
   "id": "bf2a380d-3ee4-4682-bb4f-c5ec3a7cca14",
   "metadata": {},
   "outputs": [],
   "source": []
  },
  {
   "cell_type": "code",
   "execution_count": null,
   "id": "282abfba-51c3-4123-88d2-f6de0992a239",
   "metadata": {},
   "outputs": [],
   "source": []
  },
  {
   "cell_type": "code",
   "execution_count": null,
   "id": "9cb08c5f-c322-4356-b77c-47e13b4c6dfb",
   "metadata": {},
   "outputs": [],
   "source": []
  },
  {
   "cell_type": "code",
   "execution_count": null,
   "id": "548718ac-0c0a-4024-9d30-ac39c1a8501d",
   "metadata": {},
   "outputs": [],
   "source": []
  },
  {
   "cell_type": "code",
   "execution_count": null,
   "id": "8aae94a7-128e-474d-945c-16b5d5bd09ab",
   "metadata": {},
   "outputs": [],
   "source": []
  },
  {
   "cell_type": "code",
   "execution_count": null,
   "id": "3d37c6a3-56d3-4321-a01c-2e3744d3b9ea",
   "metadata": {},
   "outputs": [],
   "source": []
  },
  {
   "cell_type": "code",
   "execution_count": null,
   "id": "e42850e1-8103-4fa1-a2d3-9d098c81cb6b",
   "metadata": {},
   "outputs": [],
   "source": []
  },
  {
   "cell_type": "code",
   "execution_count": null,
   "id": "e9436d3b-0711-4b7c-8729-db591dead711",
   "metadata": {},
   "outputs": [],
   "source": []
  },
  {
   "cell_type": "code",
   "execution_count": null,
   "id": "79f80b1e-de3e-4f30-b438-0c6eb40bf99f",
   "metadata": {},
   "outputs": [],
   "source": []
  },
  {
   "cell_type": "code",
   "execution_count": null,
   "id": "20464e5b-7b8b-4686-a4a9-d1b190180f0d",
   "metadata": {},
   "outputs": [],
   "source": []
  },
  {
   "cell_type": "code",
   "execution_count": null,
   "id": "9f278942-51ba-48a2-b734-acdc92c39474",
   "metadata": {},
   "outputs": [],
   "source": []
  },
  {
   "cell_type": "code",
   "execution_count": null,
   "id": "32e664bd-9e22-48b1-b9e0-7632d81d484e",
   "metadata": {},
   "outputs": [],
   "source": []
  },
  {
   "cell_type": "code",
   "execution_count": null,
   "id": "28e9192c-91ef-4a1f-9cfe-033c28c12964",
   "metadata": {},
   "outputs": [],
   "source": []
  }
 ],
 "metadata": {
  "kernelspec": {
   "display_name": "Python 3 (ipykernel)",
   "language": "python",
   "name": "python3"
  },
  "language_info": {
   "codemirror_mode": {
    "name": "ipython",
    "version": 3
   },
   "file_extension": ".py",
   "mimetype": "text/x-python",
   "name": "python",
   "nbconvert_exporter": "python",
   "pygments_lexer": "ipython3",
   "version": "3.12.0"
  }
 },
 "nbformat": 4,
 "nbformat_minor": 5
}
