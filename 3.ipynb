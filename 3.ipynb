{
 "cells": [
  {
   "cell_type": "raw",
   "id": "e63e7074-ea06-445d-bfd0-5188850189b9",
   "metadata": {},
   "source": [
    "Data Types:\n",
    "    Numbers:\n",
    "        int -> 10\n",
    "        float -> 25.5\n",
    "        complex -> 2+3j\n",
    "    String: collection of chars\n",
    "    List -> [] -> mutable \n",
    "    tuple -> () -> immutable\n",
    "    dict -> {} -> mutable \n",
    "    bool: True / False "
   ]
  },
  {
   "cell_type": "code",
   "execution_count": 1,
   "id": "30023912-9d39-455c-8733-cd61aa3be1ce",
   "metadata": {},
   "outputs": [],
   "source": [
    "a = 10\n",
    "b = 25.5\n",
    "c = 2+3j\n",
    "d = 'aman'\n",
    "e = \"My name is aman\"\n",
    "f = \"\"\"\n",
    "This is paragraph \n",
    "jksfn\n",
    "kjsdf\n",
    "hsdf\n",
    "h\n",
    "\"\"\"\n",
    "g = []\n",
    "h = ()\n",
    "i = {}\n",
    "j = True\n",
    "k = False"
   ]
  },
  {
   "cell_type": "code",
   "execution_count": 4,
   "id": "0219eb09-e00b-4256-8802-48ce58f26da8",
   "metadata": {},
   "outputs": [
    {
     "name": "stdout",
     "output_type": "stream",
     "text": [
      "10 <class 'int'>\n",
      "25.5 <class 'float'>\n",
      "(2+3j) <class 'complex'>\n",
      "aman <class 'str'>\n",
      "My name is aman <class 'str'>\n",
      "\n",
      "This is paragraph \n",
      "jksfn\n",
      "kjsdf\n",
      "hsdf\n",
      "h\n",
      " <class 'str'>\n",
      "[] <class 'list'>\n",
      "() <class 'tuple'>\n",
      "{} <class 'dict'>\n",
      "True <class 'bool'>\n",
      "False <class 'bool'>\n"
     ]
    }
   ],
   "source": [
    "print(a , type(a))\n",
    "print(b , type(b))\n",
    "print(c , type(c))\n",
    "print(d , type(d))\n",
    "print(e , type(e))\n",
    "print(f , type(f))\n",
    "print(g , type(g))\n",
    "print(h , type(h))\n",
    "print(i , type(i))\n",
    "print(j , type(j))\n",
    "print(k , type(k))\n"
   ]
  },
  {
   "cell_type": "code",
   "execution_count": 3,
   "id": "1aab844f-b40b-44c7-b454-b36ced56aa27",
   "metadata": {},
   "outputs": [
    {
     "name": "stdout",
     "output_type": "stream",
     "text": [
      "<class 'int'>\n"
     ]
    }
   ],
   "source": [
    "print(type(a))"
   ]
  },
  {
   "cell_type": "raw",
   "id": "3a3327e1-bd7b-47f4-8889-18f5e2d3b710",
   "metadata": {},
   "source": [
    "Airthmatic:\n",
    "    +,-,*,/,%,** , //\n",
    "Assignment:\n",
    "    = , += , -= , ......\n",
    "comparision:\n",
    "    == , < , > , <= , >= , !=\n",
    "    return output in Bool data type\n",
    "Logical:\n",
    "    or , and , not \n",
    "    return output in Bool data type\n",
    "\n",
    "\n",
    "    assuming 2 conditon \n",
    "\n",
    "    True or True -> True\n",
    "    True or False -> True\n",
    "    False or True -> True\n",
    "    False or False -> False\n",
    "\n",
    "\n",
    "    True and True -> True\n",
    "    True and False -> False\n",
    "    False and True -> False\n",
    "    False and False -> False\n",
    "\n",
    "    not True-> False \n",
    "    not False -> True\n",
    "\n",
    "Bitwise Operator:\n",
    "    | , &\n",
    "\n",
    "Membership Operator:\n",
    "    in , not in\n",
    "    return output in Bool data type \n",
    "identity Operator:\n",
    "    is , is not "
   ]
  },
  {
   "cell_type": "code",
   "execution_count": 5,
   "id": "f7c5aeab-6aa0-41b1-9226-2bf31134911b",
   "metadata": {},
   "outputs": [],
   "source": [
    "a = 5\n",
    "b = 3"
   ]
  },
  {
   "cell_type": "code",
   "execution_count": 13,
   "id": "1fbb4ee3-9830-46c2-9cfe-6f3344f48adf",
   "metadata": {},
   "outputs": [
    {
     "data": {
      "text/plain": [
       "1"
      ]
     },
     "execution_count": 13,
     "metadata": {},
     "output_type": "execute_result"
    }
   ],
   "source": [
    "a+b\n",
    "a-b\n",
    "a*b\n",
    "a/b\n",
    "a%b\n",
    "a**b\n",
    "a/b\n",
    "a//b"
   ]
  },
  {
   "cell_type": "code",
   "execution_count": 16,
   "id": "932841a8-2d5d-4b9c-a428-3907660f7d42",
   "metadata": {},
   "outputs": [],
   "source": [
    "a = a+b"
   ]
  },
  {
   "cell_type": "code",
   "execution_count": 18,
   "id": "644facf4-550f-4986-84c5-b1d7f9aa3b15",
   "metadata": {},
   "outputs": [],
   "source": [
    "a+=b"
   ]
  },
  {
   "cell_type": "code",
   "execution_count": 20,
   "id": "3ffa1e2e-92c9-47ff-a6bc-aa9fdb4b4c55",
   "metadata": {},
   "outputs": [],
   "source": [
    "a-=6"
   ]
  },
  {
   "cell_type": "code",
   "execution_count": 29,
   "id": "6750ddbe-df53-4e88-be07-432acea403e6",
   "metadata": {},
   "outputs": [
    {
     "data": {
      "text/plain": [
       "True"
      ]
     },
     "execution_count": 29,
     "metadata": {},
     "output_type": "execute_result"
    }
   ],
   "source": [
    "a == b \n",
    "a<b\n",
    "a>b\n",
    "a<=b\n",
    "a>=b\n",
    "a!=b"
   ]
  },
  {
   "cell_type": "code",
   "execution_count": 30,
   "id": "9f436c88-50e7-4a1c-a5aa-c8f7a09c7d40",
   "metadata": {},
   "outputs": [],
   "source": [
    "c = a+b"
   ]
  },
  {
   "cell_type": "code",
   "execution_count": 33,
   "id": "d0274f56-b332-413e-9f50-5988cee63f54",
   "metadata": {},
   "outputs": [
    {
     "data": {
      "text/plain": [
       "8"
      ]
     },
     "execution_count": 33,
     "metadata": {},
     "output_type": "execute_result"
    }
   ],
   "source": [
    "a\n",
    "b \n",
    "c "
   ]
  },
  {
   "cell_type": "code",
   "execution_count": 34,
   "id": "29c3f0d1-a58d-4c62-a776-f3cba915bf51",
   "metadata": {},
   "outputs": [
    {
     "data": {
      "text/plain": [
       "True"
      ]
     },
     "execution_count": 34,
     "metadata": {},
     "output_type": "execute_result"
    }
   ],
   "source": [
    "a<b or b <c"
   ]
  },
  {
   "cell_type": "code",
   "execution_count": 36,
   "id": "152049a4-2243-4c84-8352-0d724ac4bf63",
   "metadata": {},
   "outputs": [
    {
     "data": {
      "text/plain": [
       "True"
      ]
     },
     "execution_count": 36,
     "metadata": {},
     "output_type": "execute_result"
    }
   ],
   "source": [
    "not a<b "
   ]
  },
  {
   "cell_type": "code",
   "execution_count": 38,
   "id": "e8a354dc-7373-49b9-823f-ae15f422dc12",
   "metadata": {},
   "outputs": [
    {
     "data": {
      "text/plain": [
       "1"
      ]
     },
     "execution_count": 38,
     "metadata": {},
     "output_type": "execute_result"
    }
   ],
   "source": [
    "a|b\n",
    "a&b"
   ]
  },
  {
   "cell_type": "code",
   "execution_count": 42,
   "id": "b19b4851-9211-4c38-98dd-c84865307f50",
   "metadata": {},
   "outputs": [
    {
     "data": {
      "text/plain": [
       "True"
      ]
     },
     "execution_count": 42,
     "metadata": {},
     "output_type": "execute_result"
    }
   ],
   "source": [
    "'a' in \"Amanpreet Singh\"\n",
    "'a' not in \"Amanpreet\"\n",
    "'k' in \"Aman\"\n",
    "'k' not in \"Aman\""
   ]
  },
  {
   "cell_type": "code",
   "execution_count": 46,
   "id": "90cb4073-bff2-434b-b6bf-d83f18e90000",
   "metadata": {},
   "outputs": [],
   "source": [
    "a = 10\n",
    "b = 20"
   ]
  },
  {
   "cell_type": "code",
   "execution_count": 47,
   "id": "70e6900e-c79b-4564-96b5-d14da48f7292",
   "metadata": {},
   "outputs": [
    {
     "data": {
      "text/plain": [
       "False"
      ]
     },
     "execution_count": 47,
     "metadata": {},
     "output_type": "execute_result"
    }
   ],
   "source": [
    "a == b "
   ]
  },
  {
   "cell_type": "code",
   "execution_count": 48,
   "id": "a34ac517-2bdb-4c1f-b441-73ddcefc507a",
   "metadata": {},
   "outputs": [
    {
     "data": {
      "text/plain": [
       "False"
      ]
     },
     "execution_count": 48,
     "metadata": {},
     "output_type": "execute_result"
    }
   ],
   "source": [
    "a is b "
   ]
  },
  {
   "cell_type": "code",
   "execution_count": 49,
   "id": "12bca8d7-3652-4619-904a-1d80d8ef1a2a",
   "metadata": {},
   "outputs": [],
   "source": [
    "a = []\n",
    "b = []"
   ]
  },
  {
   "cell_type": "code",
   "execution_count": 50,
   "id": "9d732826-7850-40ee-af0a-ceefb31263d5",
   "metadata": {},
   "outputs": [
    {
     "data": {
      "text/plain": [
       "True"
      ]
     },
     "execution_count": 50,
     "metadata": {},
     "output_type": "execute_result"
    }
   ],
   "source": [
    "a == b "
   ]
  },
  {
   "cell_type": "code",
   "execution_count": 51,
   "id": "57add170-4904-4b1c-a872-a015fce15495",
   "metadata": {},
   "outputs": [
    {
     "data": {
      "text/plain": [
       "False"
      ]
     },
     "execution_count": 51,
     "metadata": {},
     "output_type": "execute_result"
    }
   ],
   "source": [
    "a is b "
   ]
  },
  {
   "cell_type": "code",
   "execution_count": null,
   "id": "247b141f-34ba-4b07-badc-632254a57d8c",
   "metadata": {},
   "outputs": [],
   "source": []
  },
  {
   "cell_type": "code",
   "execution_count": null,
   "id": "4c20c889-e1a6-4a67-a285-da25810a67aa",
   "metadata": {},
   "outputs": [],
   "source": []
  },
  {
   "cell_type": "code",
   "execution_count": null,
   "id": "2aec4f53-b560-4480-929a-27664614f229",
   "metadata": {},
   "outputs": [],
   "source": []
  },
  {
   "cell_type": "code",
   "execution_count": null,
   "id": "05e5a936-fc23-4f60-8ae0-c2798992d5e7",
   "metadata": {},
   "outputs": [],
   "source": []
  },
  {
   "cell_type": "code",
   "execution_count": null,
   "id": "c5395e6f-2d18-420a-b56a-63c3d62732a0",
   "metadata": {},
   "outputs": [],
   "source": []
  }
 ],
 "metadata": {
  "kernelspec": {
   "display_name": "Python 3 (ipykernel)",
   "language": "python",
   "name": "python3"
  },
  "language_info": {
   "codemirror_mode": {
    "name": "ipython",
    "version": 3
   },
   "file_extension": ".py",
   "mimetype": "text/x-python",
   "name": "python",
   "nbconvert_exporter": "python",
   "pygments_lexer": "ipython3",
   "version": "3.12.0"
  }
 },
 "nbformat": 4,
 "nbformat_minor": 5
}
