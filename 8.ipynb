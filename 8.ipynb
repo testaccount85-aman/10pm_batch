{
 "cells": [
  {
   "cell_type": "code",
   "execution_count": null,
   "id": "1c7508be-ecae-40a1-9372-46f00d8c02e9",
   "metadata": {},
   "outputs": [],
   "source": [
    "a = \"Amanpreet Singh\"\n",
    "\n",
    "print(a)\n",
    "print(len(a))\n",
    "print(type(a))\n",
    "\n",
    "for i in a:\n",
    "    print(i)\n",
    "\n",
    "print(max(a))\n",
    "print(min(a))\n",
    "\n",
    "a[0]\n",
    "a[5]\n",
    "a[14]\n",
    "a[-15]\n",
    "a[-16]\n",
    "\n",
    "a[4:9]\n",
    "a[:9]\n",
    "a[9:]\n",
    "a[:]\n",
    "a[:10:2]\n",
    "\n",
    "a\n",
    "\n",
    "for i in a:\n",
    "    print(i)\n",
    "\n",
    "a[0]\n",
    "a[1]\n",
    "a[2]\n",
    "a[3]"
   ]
  },
  {
   "cell_type": "code",
   "execution_count": 31,
   "id": "d9a3cba3-05ba-4730-ad69-e5adc2695802",
   "metadata": {},
   "outputs": [],
   "source": [
    "a = \"Amanpreet Singh\""
   ]
  },
  {
   "cell_type": "code",
   "execution_count": 32,
   "id": "92c7035b-e498-49d2-950e-c268b91660d3",
   "metadata": {},
   "outputs": [
    {
     "name": "stdout",
     "output_type": "stream",
     "text": [
      "A\n",
      "m\n",
      "a\n",
      "n\n",
      "p\n",
      "r\n",
      "e\n",
      "e\n",
      "t\n",
      " \n",
      "S\n",
      "i\n",
      "n\n",
      "g\n",
      "h\n"
     ]
    }
   ],
   "source": [
    "c = 0\n",
    "while c<len(a):\n",
    "    print(a[c])\n",
    "    c+=1"
   ]
  },
  {
   "cell_type": "code",
   "execution_count": 33,
   "id": "b12b5c97-f8d2-462a-93d5-95a5d69b32e7",
   "metadata": {},
   "outputs": [
    {
     "name": "stdout",
     "output_type": "stream",
     "text": [
      "A\n",
      "m\n",
      "a\n",
      "n\n",
      "p\n",
      "r\n",
      "e\n",
      "e\n",
      "t\n",
      " \n",
      "S\n",
      "i\n",
      "n\n",
      "g\n",
      "h\n"
     ]
    }
   ],
   "source": [
    "for i in range(len(a)):\n",
    "    print(a[i])"
   ]
  },
  {
   "cell_type": "code",
   "execution_count": 39,
   "id": "23f277cd-502b-4bb9-a298-8f3473d1e113",
   "metadata": {},
   "outputs": [
    {
     "data": {
      "text/plain": [
       "'Amanpreet Singh'"
      ]
     },
     "execution_count": 39,
     "metadata": {},
     "output_type": "execute_result"
    }
   ],
   "source": [
    "a"
   ]
  },
  {
   "cell_type": "code",
   "execution_count": 41,
   "id": "e48ff5a6-df60-4ede-bb43-61c122556b22",
   "metadata": {},
   "outputs": [
    {
     "data": {
      "text/plain": [
       "True"
      ]
     },
     "execution_count": 41,
     "metadata": {},
     "output_type": "execute_result"
    }
   ],
   "source": [
    "a.upper()\n",
    "a.lower()\n",
    "a.title()\n",
    "a.isupper()\n",
    "a.islower()\n",
    "a.istitle()"
   ]
  },
  {
   "cell_type": "code",
   "execution_count": 42,
   "id": "87040bc1-6722-431c-a6b6-82a5041ea1e4",
   "metadata": {},
   "outputs": [
    {
     "data": {
      "text/plain": [
       "'Amanpreet Singh'"
      ]
     },
     "execution_count": 42,
     "metadata": {},
     "output_type": "execute_result"
    }
   ],
   "source": [
    "a"
   ]
  },
  {
   "cell_type": "code",
   "execution_count": 44,
   "id": "3f3445dd-517c-4b7a-afd6-4d96f18ffd9b",
   "metadata": {},
   "outputs": [
    {
     "name": "stdout",
     "output_type": "stream",
     "text": [
      "2\n"
     ]
    }
   ],
   "source": [
    "countofe = 0\n",
    "for i in a:\n",
    "    if i == 'e':\n",
    "        countofe+=1\n",
    "print(countofe)"
   ]
  },
  {
   "cell_type": "code",
   "execution_count": 45,
   "id": "507ddff1-95bb-4db3-8147-dc6e0053f113",
   "metadata": {},
   "outputs": [
    {
     "data": {
      "text/plain": [
       "2"
      ]
     },
     "execution_count": 45,
     "metadata": {},
     "output_type": "execute_result"
    }
   ],
   "source": [
    "a.count('e')"
   ]
  },
  {
   "cell_type": "code",
   "execution_count": 51,
   "id": "a5921f83-7495-4179-9607-597de66527ae",
   "metadata": {},
   "outputs": [
    {
     "name": "stdin",
     "output_type": "stream",
     "text": [
      "Please enter the first number  knkjn\n",
      "Please enter the second number  kjn\n"
     ]
    },
    {
     "name": "stdout",
     "output_type": "stream",
     "text": [
      "Invalid format\n"
     ]
    }
   ],
   "source": [
    "num1 = input(\"Please enter the first number \")\n",
    "num2 = input(\"Please enter the second number \")\n",
    "if num1.isdigit() and num2.isdigit():\n",
    "    num1 , num2 = int(num1) , int(num2)\n",
    "    print(num1+num2)\n",
    "else:\n",
    "    print(\"Invalid format\")\n",
    "    "
   ]
  },
  {
   "cell_type": "code",
   "execution_count": null,
   "id": "e224241a-ea61-4b94-8324-d97ab7a2a455",
   "metadata": {},
   "outputs": [],
   "source": [
    "\"\"\"\n",
    "List:\n",
    "    its a data type in Python / Data structer in python \n",
    "    []\n",
    "    it can store element of any data type \n",
    "    for loop can also be applied on list \n",
    "    indexing and slicing is also availble in list \n",
    "    list is mutable -> insertion , deletion and updation is possible in list \n",
    "\n",
    "\"\"\""
   ]
  },
  {
   "cell_type": "code",
   "execution_count": 52,
   "id": "5adc1449-eae0-4405-a8c6-e946fd43586f",
   "metadata": {},
   "outputs": [
    {
     "name": "stdout",
     "output_type": "stream",
     "text": [
      "[]\n",
      "0\n",
      "<class 'list'>\n"
     ]
    }
   ],
   "source": [
    "a = []\n",
    "print(a)\n",
    "print(len(a))\n",
    "print(type(a))"
   ]
  },
  {
   "cell_type": "code",
   "execution_count": 54,
   "id": "a05c84d3-2628-46fa-8749-05c88b51c35f",
   "metadata": {},
   "outputs": [
    {
     "name": "stdout",
     "output_type": "stream",
     "text": [
      "[10, 25.5, 'aman', 'My name is aman', True, False, []]\n",
      "7\n",
      "<class 'list'>\n"
     ]
    }
   ],
   "source": [
    "a = [10,25.5 , 'aman' , \"My name is aman\" , True , False , [] ]\n",
    "print(a)\n",
    "print(len(a))\n",
    "print(type(a))"
   ]
  },
  {
   "cell_type": "code",
   "execution_count": 56,
   "id": "f17231cf-63f9-4901-866b-12754760271b",
   "metadata": {},
   "outputs": [
    {
     "name": "stdout",
     "output_type": "stream",
     "text": [
      "10 <class 'int'>\n",
      "25.5 <class 'float'>\n",
      "aman <class 'str'>\n",
      "My name is aman <class 'str'>\n",
      "True <class 'bool'>\n",
      "False <class 'bool'>\n",
      "[] <class 'list'>\n"
     ]
    }
   ],
   "source": [
    "for i in a:\n",
    "    print(i , type(i))"
   ]
  },
  {
   "cell_type": "code",
   "execution_count": 57,
   "id": "92289515-c831-496b-811b-10f02db9b18d",
   "metadata": {},
   "outputs": [
    {
     "name": "stdout",
     "output_type": "stream",
     "text": [
      "10 <class 'int'>\n",
      "25.5 <class 'float'>\n",
      "aman <class 'str'>\n",
      "My name is aman <class 'str'>\n",
      "True <class 'bool'>\n",
      "False <class 'bool'>\n",
      "[] <class 'list'>\n"
     ]
    }
   ],
   "source": [
    "c = 0\n",
    "while c<len(a):\n",
    "    print(a[c] , type(a[c]))\n",
    "    c+=1"
   ]
  },
  {
   "cell_type": "code",
   "execution_count": null,
   "id": "58424544-f9f0-45ea-8891-e756faddab7a",
   "metadata": {},
   "outputs": [],
   "source": []
  },
  {
   "cell_type": "code",
   "execution_count": null,
   "id": "e653921a-8092-472f-b80b-8071be6b1c11",
   "metadata": {},
   "outputs": [],
   "source": []
  }
 ],
 "metadata": {
  "kernelspec": {
   "display_name": "Python 3 (ipykernel)",
   "language": "python",
   "name": "python3"
  },
  "language_info": {
   "codemirror_mode": {
    "name": "ipython",
    "version": 3
   },
   "file_extension": ".py",
   "mimetype": "text/x-python",
   "name": "python",
   "nbconvert_exporter": "python",
   "pygments_lexer": "ipython3",
   "version": "3.12.0"
  }
 },
 "nbformat": 4,
 "nbformat_minor": 5
}
