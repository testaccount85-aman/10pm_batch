{
 "cells": [
  {
   "cell_type": "code",
   "execution_count": 2,
   "id": "254a8fcf-56f2-4eca-b1a4-db0df3ed860c",
   "metadata": {},
   "outputs": [
    {
     "name": "stdout",
     "output_type": "stream",
     "text": [
      "Aman 5\n",
      "Aman 10\n",
      "Aman 20\n",
      "Aman 25\n"
     ]
    }
   ],
   "source": [
    "a = 0\n",
    "while a<=20:\n",
    "    a+=5\n",
    "    if a==15:\n",
    "        continue\n",
    "    print(\"Aman\",a)"
   ]
  },
  {
   "cell_type": "code",
   "execution_count": 3,
   "id": "8d51ad8b-1f3d-4ab4-950b-f7c0844f912b",
   "metadata": {},
   "outputs": [
    {
     "name": "stdout",
     "output_type": "stream",
     "text": [
      "2001\n",
      "2002\n",
      "2003\n",
      "2005\n",
      "2006\n",
      "2007\n",
      "2009\n",
      "2010\n",
      "2011\n",
      "2013\n",
      "2014\n",
      "2015\n",
      "2017\n",
      "2018\n",
      "2019\n",
      "2021\n",
      "2022\n",
      "2023\n",
      "2025\n"
     ]
    }
   ],
   "source": [
    "year = 2000\n",
    "while year<=2024:\n",
    "    year+=1\n",
    "    if year%4==0:\n",
    "        continue\n",
    "    print(year)"
   ]
  },
  {
   "cell_type": "code",
   "execution_count": null,
   "id": "07981d8b-af03-4a86-903e-007e74d036ed",
   "metadata": {},
   "outputs": [],
   "source": [
    "\"\"\"\n",
    "\n",
    "for i in range(n):\n",
    "    logic\n",
    "\n",
    "for \n",
    "i \n",
    "in \n",
    "range()\n",
    "\n",
    "\"\"\""
   ]
  },
  {
   "cell_type": "code",
   "execution_count": 4,
   "id": "10bd47f2-697b-4bf7-9360-f44d03f30dcc",
   "metadata": {},
   "outputs": [
    {
     "data": {
      "text/plain": [
       "range(0, 5)"
      ]
     },
     "execution_count": 4,
     "metadata": {},
     "output_type": "execute_result"
    }
   ],
   "source": [
    "range(5)"
   ]
  },
  {
   "cell_type": "code",
   "execution_count": 7,
   "id": "963de93f-9f52-4c59-990b-5b1154667869",
   "metadata": {},
   "outputs": [
    {
     "name": "stdout",
     "output_type": "stream",
     "text": [
      "Aman 0\n",
      "Aman 1\n",
      "Aman 2\n",
      "Aman 3\n",
      "Aman 4\n",
      "Aman 5\n",
      "Aman 6\n",
      "Aman 7\n",
      "Aman 8\n",
      "Aman 9\n"
     ]
    }
   ],
   "source": [
    "for i in range(10):\n",
    "    print(\"Aman\" , i )"
   ]
  },
  {
   "cell_type": "code",
   "execution_count": 10,
   "id": "88578826-9ce6-4f1e-a60f-d71ca2aa4c8c",
   "metadata": {},
   "outputs": [
    {
     "name": "stdout",
     "output_type": "stream",
     "text": [
      "Aman 10\n",
      "Aman 15\n",
      "Aman 20\n",
      "Aman 25\n",
      "Aman 30\n",
      "Aman 35\n"
     ]
    }
   ],
   "source": [
    "for i in range(10 , 40 , 5):\n",
    "    print(\"Aman\" , i )"
   ]
  },
  {
   "cell_type": "code",
   "execution_count": null,
   "id": "3aac3180-7581-42f8-95c4-c0ddac6a8990",
   "metadata": {},
   "outputs": [],
   "source": [
    "print(\"just to test git changes \")"
   ]
  },
  {
   "cell_type": "code",
   "execution_count": null,
   "id": "76b9a219-76d6-40d2-bbbd-8c98bb3c3c70",
   "metadata": {},
   "outputs": [],
   "source": []
  },
  {
   "cell_type": "code",
   "execution_count": null,
   "id": "cef61423-2c11-4d84-8380-47058a20daa9",
   "metadata": {},
   "outputs": [],
   "source": []
  },
  {
   "cell_type": "code",
   "execution_count": null,
   "id": "50f09f67-a71b-44bd-8740-761fe39d3cd7",
   "metadata": {},
   "outputs": [],
   "source": []
  },
  {
   "cell_type": "code",
   "execution_count": null,
   "id": "f006f2f9-e8a8-45e0-a6a5-d5c8dba9c727",
   "metadata": {},
   "outputs": [],
   "source": []
  },
  {
   "cell_type": "code",
   "execution_count": null,
   "id": "19c91882-4c06-4984-b2dc-077b085759b4",
   "metadata": {},
   "outputs": [],
   "source": []
  },
  {
   "cell_type": "code",
   "execution_count": null,
   "id": "e84c8b59-bd08-43d6-931a-3726dad9396e",
   "metadata": {},
   "outputs": [],
   "source": []
  },
  {
   "cell_type": "code",
   "execution_count": null,
   "id": "e003e0c2-ee82-49a0-af72-e2e706075189",
   "metadata": {},
   "outputs": [],
   "source": []
  },
  {
   "cell_type": "code",
   "execution_count": null,
   "id": "fcb5fec1-7aa2-41fa-b0c2-a7d72ce18496",
   "metadata": {},
   "outputs": [],
   "source": []
  },
  {
   "cell_type": "code",
   "execution_count": null,
   "id": "806fe986-3ae1-4a45-bce1-103fabe31298",
   "metadata": {},
   "outputs": [],
   "source": []
  },
  {
   "cell_type": "code",
   "execution_count": null,
   "id": "c1079695-0121-4b2b-bea9-d4fb7cf64c53",
   "metadata": {},
   "outputs": [],
   "source": []
  },
  {
   "cell_type": "code",
   "execution_count": null,
   "id": "3bcc0032-9a73-42b2-b19a-97965af950f2",
   "metadata": {},
   "outputs": [],
   "source": []
  },
  {
   "cell_type": "code",
   "execution_count": null,
   "id": "9c77d4a6-115b-42d0-9aed-3a1a0081a78f",
   "metadata": {},
   "outputs": [],
   "source": []
  },
  {
   "cell_type": "code",
   "execution_count": null,
   "id": "d6f64398-6ccf-4f1b-8705-6bd6f84161ee",
   "metadata": {},
   "outputs": [],
   "source": []
  },
  {
   "cell_type": "code",
   "execution_count": null,
   "id": "1e5a2ac2-5365-4e6d-b578-10373848aff6",
   "metadata": {},
   "outputs": [],
   "source": []
  },
  {
   "cell_type": "code",
   "execution_count": null,
   "id": "9f41d5f4-c971-49f7-9921-d11cb16c3572",
   "metadata": {},
   "outputs": [],
   "source": []
  },
  {
   "cell_type": "code",
   "execution_count": null,
   "id": "495acc62-ea53-43f0-a435-079f387d36b3",
   "metadata": {},
   "outputs": [],
   "source": []
  },
  {
   "cell_type": "code",
   "execution_count": null,
   "id": "1a66f557-66f1-4ec4-9b57-f6aee9cae079",
   "metadata": {},
   "outputs": [],
   "source": []
  }
 ],
 "metadata": {
  "kernelspec": {
   "display_name": "Python 3 (ipykernel)",
   "language": "python",
   "name": "python3"
  },
  "language_info": {
   "codemirror_mode": {
    "name": "ipython",
    "version": 3
   },
   "file_extension": ".py",
   "mimetype": "text/x-python",
   "name": "python",
   "nbconvert_exporter": "python",
   "pygments_lexer": "ipython3",
   "version": "3.12.0"
  }
 },
 "nbformat": 4,
 "nbformat_minor": 5
}
